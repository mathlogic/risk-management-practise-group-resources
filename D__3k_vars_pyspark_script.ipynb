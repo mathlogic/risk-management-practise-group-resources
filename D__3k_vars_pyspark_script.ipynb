{
 "cells": [
  {
   "cell_type": "markdown",
   "id": "69310ed9-dd47-4080-8510-e0359ef5b03e",
   "metadata": {},
   "source": [
    "### `Dependecies`"
   ]
  },
  {
   "cell_type": "code",
   "execution_count": 1,
   "id": "cc32ce74-046a-4072-b42d-7724a771d0bd",
   "metadata": {
    "tags": []
   },
   "outputs": [
    {
     "name": "stderr",
     "output_type": "stream",
     "text": [
      "Setting default log level to \"WARN\".\n",
      "To adjust logging level use sc.setLogLevel(newLevel). For SparkR, use setLogLevel(newLevel).\n",
      "25/05/13 14:04:40 WARN NativeCodeLoader: Unable to load native-hadoop library for your platform... using builtin-java classes where applicable\n",
      "25/05/13 14:04:42 WARN Utils: Service 'SparkUI' could not bind on port 4040. Attempting port 4041.\n"
     ]
    }
   ],
   "source": [
    "from pyspark.sql import SparkSession\n",
    "from pyspark.sql import functions as F\n",
    "from pyspark.sql.window import Window\n",
    "from pyspark.sql import types as T\n",
    "\n",
    "spark = SparkSession.builder.appName('abc')\\\n",
    ".config('spark.driver.memory' , '64g')\\\n",
    ".config('spark.sql.legacy.timeParserPolicy' , 'LEGACY')\\\n",
    ".config(\"spark.sql.shuffle.partitions\" , \"100\")\\\n",
    ".getOrCreate()\n"
   ]
  },
  {
   "cell_type": "code",
   "execution_count": null,
   "id": "07424551-91ba-4478-871c-782f2c55f6e9",
   "metadata": {},
   "outputs": [],
   "source": []
  },
  {
   "cell_type": "markdown",
   "id": "32059587-67f4-47c4-9665-ce83b05135da",
   "metadata": {},
   "source": [
    "### `Config`"
   ]
  },
  {
   "cell_type": "code",
   "execution_count": 2,
   "id": "13f3df6d-c042-4eff-b973-1b06fd65bd0e",
   "metadata": {
    "tags": []
   },
   "outputs": [],
   "source": [
    "raw_data_path = '/home/data/manu/sample/cibil/'\n",
    "prep_data_path = '/home/jupyter-monica.marmit/feature_enginerring/cibil/output/'"
   ]
  },
  {
   "cell_type": "code",
   "execution_count": null,
   "id": "ecc4492c-fcd5-49d5-bd79-94da87e472f7",
   "metadata": {},
   "outputs": [],
   "source": []
  },
  {
   "cell_type": "markdown",
   "id": "2cde137d-5f00-4fcd-aa49-50a26ead1fc0",
   "metadata": {},
   "source": [
    "### `3K Feature Creation`"
   ]
  },
  {
   "cell_type": "code",
   "execution_count": 3,
   "id": "cb3ccc8b-05ec-4068-ba83-06dc19522ec0",
   "metadata": {
    "tags": []
   },
   "outputs": [],
   "source": [
    "mon = [3, 6, 12, 24]\n",
    "base_prod = ['GL','CC','TW','AL','HL']\n",
    "oth_list = [\"PLlt5\",\"PLgt5\",\"PLlt1L\",\"PLgt1L\",\"NAGRI\",\"SEC\",\"UNSEC\"]\n",
    "categories = ['Overall','PLlt5','PLgt5','PLlt1L','PLgt1L','GL','CC','TW','AL','HL','SEC','UNSEC','NAGRI']\n",
    "categories2 = ['Overall','PLlt10k','PLlt1L','PLgt1L','GL','CC','TW','AL','HL','SEC','UNSEC','NAGRI']"
   ]
  },
  {
   "cell_type": "code",
   "execution_count": 4,
   "id": "879bf7ec-5582-4a96-9acc-ad3afa36d17e",
   "metadata": {
    "tags": []
   },
   "outputs": [],
   "source": [
    "expr_3k1 =[\"*\"]\\\n",
    "+ [\"case  when ACCOUNT_TYPE = 'Personal Loan' then 'PL' \\\n",
    "        when ACCOUNT_TYPE = 'Gold Loan'  then 'GL' \\\n",
    "        when ACCOUNT_TYPE = 'Credit Card' then 'CC' \\\n",
    "        when ACCOUNT_TYPE = 'Two-wheeler Loan' then 'TW' \\\n",
    "        when ACCOUNT_TYPE = 'Auto Loan (Personal)'  then 'AL' \\\n",
    "        when ACCOUNT_TYPE = 'Housing Loan'  then 'HL' \\\n",
    "        else 'others' end as prod_3k\"] \\\n",
    "+ [\"case  when ACCOUNT_TYPE = 'Personal Loan' and HIGHEST_CREDIT_OR_LOAN_AMOUNT <=5000 then 1 else null end as PLlt5_flag\"]\\\n",
    "+ [\"case  when ACCOUNT_TYPE = 'Personal Loan' and HIGHEST_CREDIT_OR_LOAN_AMOUNT > 5000 then 1 else null end as PLgt5_flag\"]\\\n",
    "+ [\"case  when ACCOUNT_TYPE = 'Personal Loan' and HIGHEST_CREDIT_OR_LOAN_AMOUNT <=10000 then 1 else null end as PLlt10k_flag\"]\\\n",
    "+ [\"case  when ACCOUNT_TYPE = 'Personal Loan' and HIGHEST_CREDIT_OR_LOAN_AMOUNT <=100000 then 1 else null end as PLlt1L_flag\"]\\\n",
    "+ [\"case  when ACCOUNT_TYPE = 'Personal Loan' and HIGHEST_CREDIT_OR_LOAN_AMOUNT > 100000 then 1 else null end as PLgt1L_flag\"]\\\n",
    "+ [\"case when ACCOUNT_TYPE in ('Other','Auto Loan (Personal)','Housing Loan','Property Loan','Loan Against Shares/Securities','Personal Loan','Consumer Loan','Gold Loan','Education Loan','Loan to Professional','Credit Card','Overdraft','Two-wheeler Loan','Loan Against Bank Deposits','Commercial Vehicle Loan','Secured Credit Card','Used Car Loan','Construction Equipment Loan','Corporate Credit Card','Kisan Credit Card','Business Loan - General','Business Loan - Priority Sector - Small Business','Business Loan - Priority Sector - Others','Business Non - Funded Credit Facility - General','Business Non - Funded Credit Facility - Priority Sector - Small Business','Business Loan Against Bank Deposits','Microfinance Business Loan','Microfinance Personal Loan','Microfinance Housing Loan','Microfinance Others','Business Loan - Unsecured') \\\n",
    "            then 1 else null end as NAGRI_flag\"]\\\n",
    "+ [\"case when ACCOUNT_TYPE in ('Auto Loan (Personal)','Property Loan','Housing Loan','Gold Loan','Two-wheeler Loan','Commercial Vehicle Loan','Used Car Loan','Construction Equipment Loan','Microfinance Housing Loan') then 1 else null end as SEC_flag\"]\\\n",
    "+ [\"case when ACCOUNT_TYPE in ('Personal Loan','Consumer Loan','Credit Card','Kisan Credit Card','Loan to Professional','Microfinance Personal Loan') then 1 else null end as UNSEC_flag\"]\\\n",
    "+ [\"1 as Overall_flag\"] \\\n",
    "+ [\"case when ACCOUNT_TYPE = '{a}' then 1 else null end as {b}_flag\".format(a= i, b= j) for i,j in [('Gold Loan','GL'), ('Credit Card', 'CC'), ('Two-wheeler Loan', 'TW'), ('Auto Loan (Personal)', 'AL'), ('Housing Loan', 'HL')]] \\\n",
    "+ [\"months_between(trunc(run_dt, 'month'), trunc(dateopened, 'month')) as mn_d_ret_dt_fl_3k\"]\\\n",
    "+ [\"case when dateclosed < run_dt then 1 else 0 end as closed_date_new\"]\\\n",
    "+ [\"case when ((closed_date_new = 1) or (is_written_off_or_settled = 1) or (balance_3k = 0 and ACCOUNT_TYPE not in ('Credit Card','Overdraft',14,16,'Secured Credit Card','Corporate Credit Card','Kisan Credit Card','Business Non - Funded Credit Facility - General','Business Non - Funded Credit Facility - Priority Sector - Small Business',57,58))) \\\n",
    "    then 1 else 0 end as is_closed\"] \\\n",
    "+ [\"case when is_closed = 0 then 1 else null end as is_open\"] \\\n",
    "+ [\"case when months_between(trunc(run_dt, 'month'), trunc(datereported, 'month')) <={a} \\\n",
    "    then 1 else null end as {a}mn_diff_retro_report_dt_flag\".format(a = i) for i in [3,6,12,24]] \\\n",
    "+ [\"case when is_open * {cat}_flag = 1 then balance_3k else null end as {cat}_balance\".format(cat = i) for i in categories] \\\n",
    "+ [\"case when is_open * {cat}_flag = 1 then HIGHEST_CREDIT_OR_LOAN_AMOUNT else null end as {cat}_HIGHEST_CREDIT_OR_LOAN_AMOUNT\".format(cat = i) for i in categories] \\\n",
    "+ [\"case \\\n",
    "    when {cat}_flag * 3mn_diff_retro_report_dt_flag *is_open = 1 then dateopened else null \\\n",
    "    end as dateopened_{cat}\".format(cat = i) for i in categories]"
   ]
  },
  {
   "cell_type": "code",
   "execution_count": 5,
   "id": "30174396-6af0-4908-87db-222651eddd9b",
   "metadata": {
    "tags": []
   },
   "outputs": [],
   "source": [
    "expr_3k2 = [\"*\"]\\\n",
    "+[\n",
    "    f\"\"\"\n",
    "    row_number() \n",
    "    over(\n",
    "        partition by MemberReference, 3mn_diff_retro_report_dt_flag, is_open \n",
    "        order by (case when dateopened_{cat} is null then 1 else 0 end), dateopened_{cat}, HIGHEST_CREDIT_OR_LOAN_AMOUNT desc\n",
    "    )\n",
    "    as row_num_first_{cat}\"\"\" for cat in categories] \\\n",
    "+[\n",
    "    f\"\"\"\n",
    "    row_number() \n",
    "    over(\n",
    "        partition by MemberReference, 3mn_diff_retro_report_dt_flag, is_open \n",
    "        order by (case when dateopened_{cat} is null then 1 else 0 end), dateopened_{cat} desc, HIGHEST_CREDIT_OR_LOAN_AMOUNT desc\n",
    "    )\n",
    "    as row_num_latest_{cat}\"\"\" for cat in categories] \\\n",
    "+ [\"case when prod_3k = '{prd}' and mn_d_ret_dt_fl_3k <={mn} then 1 else null end nbr_of_open_accnts_{prd}_{mn}M\".format(prd=prd,mn=mn) \\\n",
    "  for prd in base_prod for mn in mon]\\\n",
    "+ [\"case when mn_d_ret_dt_fl_3k <={mn} then 1 else null end as nbr_of_open_accnts_Overall_{mn}M\".format(mn=mn) for mn in mon]\\\n",
    "+ [\"case when {prd}_flag=1 and mn_d_ret_dt_fl_3k <={mn} then 1 else null end as nbr_of_open_accnts_{prd}_{mn}M\".format(prd=prd,mn=mn) \\\n",
    "   for prd in oth_list for mn in mon]\\\n",
    "+ [\"case when prod_3k = '{prd}' and mn_diff_retro_report <={mn} and is_closed=0 then 1 else null end as nbr_of_live_accnts_rep{prd}_{mn}M\"\\\n",
    "   .format(prd=prd,mn=mn) for prd in base_prod for mn in mon]\\\n",
    "+ [\"case when mn_diff_retro_report <={mn} and is_closed=0 then 1 else null end as nbr_of_live_accnts_repOverall_{mn}M\".format(mn=mn) for mn in mon]\\\n",
    "+ [\"case when {prd}_flag=1 and mn_diff_retro_report <={mn} and is_closed=0 then 1 else null end as nbr_of_live_accnts_rep{prd}_{mn}M\".format(prd=prd,mn=mn) \\\n",
    "   for prd in oth_list for mn in mon]\\\n",
    "+ [\"case when {cat}_flag = 1 and mn_diff_retro_report <={mn} and is_closed=0 and balance_3k is null then 0 \\\n",
    "    when {cat}_flag = 1 and mn_diff_retro_report <={mn} and is_closed=0 and balance_3k is not null then balance_3k else null end as tot_live_bal_{cat}_{mn}M\"\\\n",
    "   .format(cat=cat,mn=mn) for cat in categories for mn in mon]\\\n",
    "+ [\n",
    "    \"\"\"\n",
    "    case \n",
    "    when {cat}_flag = 1 and mn_diff_retro_report <={mn} and is_closed=0 and HIGHEST_CREDIT_OR_LOAN_AMOUNT is null then 0 \\\n",
    "    when {cat}_flag = 1 and mn_diff_retro_report <={mn} and is_closed=0 and HIGHEST_CREDIT_OR_LOAN_AMOUNT is not null then HIGHEST_CREDIT_OR_LOAN_AMOUNT \\\n",
    "    else null end as tot_live_sanction_{cat}_{mn}M\"\"\".format(cat=cat,mn=mn) for cat in categories for mn in mon\n",
    "]\\\n",
    "+ [\"case when balance_3k/HIGHEST_CREDIT_OR_LOAN_AMOUNT is null then 0 \\\n",
    "       else round(balance_3k/HIGHEST_CREDIT_OR_LOAN_AMOUNT,3) \\\n",
    "   end as mon_util\"] \\\n",
    "+ [\"months_between(trunc(dateclosed, 'month'), trunc(dateopened, 'month')) as month_diff_open_close\"] \\\n",
    "+ [\"months_between(trunc(run_dt, 'month'), trunc(payment_history_start_date, 'month')) as month_lag\"] \\\n",
    "+ [\"case when month_lag <= {mn} then 1 else null end as month_lag_{mn}M\".format(mn=mn) for mn in [1,3,6,12,24]] \\\n",
    "+ [f\"case when \" + \" or \".join([f\"dpd_bucket_{i} >= 0 \" for i in range(1, mn+1)]) + f\"then 1 else null end as dpd_present_{mn}M_flag\" for mn in [1,3,6,12,24]]"
   ]
  },
  {
   "cell_type": "code",
   "execution_count": 6,
   "id": "3c77886d-02d9-45f6-8887-46626116379b",
   "metadata": {
    "tags": []
   },
   "outputs": [],
   "source": [
    "expr_3k3 = [\"*\"]\n",
    " \n",
    "for mon in [1, 3, 6, 12, 24]:\n",
    "    for bkt, dpd in [(1, '0'), (2, '30'), (3, '60'), (4, '90'), (6, '180')]:\n",
    "        expr_3k3 += [\" + \".join([f\"int(dpd_bucket_{i} >= {bkt})\" for i in range(1,mon+1)])+f\" as dpd_gt_{dpd}_{mon}m_count\"]\n",
    "        \n",
    "expr_3k3 += [\"case when dpd_gt_{dpd}_{mon}m_count >= 1 then 1 else null end as dpd_gt_{dpd}_{mon}m_flag\"\\\n",
    "     .format(dpd=dpd, mon=mon) for mon in [1, 3, 6, 12, 24] for dpd in [0, 30, 60, 90, 180]]\n",
    "\n",
    " \n",
    "expr_3k3 += [f\"greatest(\"+\", \".join([f\"dpd_bucket_\"+str(i) for i in range(1,mon+1)])+f\") as max_dpd_{mon}m_flag\" for mon in [3, 6, 12, 24]]\n",
    "        \n",
    "expr_3k3 += [\"dpd_bucket_1 as max_dpd_1m_flag\"]"
   ]
  },
  {
   "cell_type": "code",
   "execution_count": 7,
   "id": "f86a45cd-3095-4529-9ec6-8e470b83b817",
   "metadata": {
    "tags": []
   },
   "outputs": [],
   "source": [
    "agg_expr_3k1 = [] \\\n",
    "+ [F.expr(f\"\"\"{agg_func}(int(3mn_diff_retro_report_dt_flag = 1) * int(is_open = 1)* int({cat}_flag = 1) * int(row_num_first_{cat} = 1) * HIGHEST_CREDIT_OR_LOAN_AMOUNT) as First_loan_amt_{cat}\"\"\") for agg_func in ['max'] for cat in categories] \\\n",
    "+ [F.expr(f\"\"\"{agg_func}(int(3mn_diff_retro_report_dt_flag = 1) * int(is_open = 1)* int({cat}_flag = 1) * int(row_num_latest_{cat} = 1) * HIGHEST_CREDIT_OR_LOAN_AMOUNT * 1.0) as latest_loan_amt_{cat}\"\"\") for agg_func in ['max'] for cat in categories] \\\n",
    "+ [F.expr(f\"\"\"{agg_func}(HIGHEST_CREDIT_OR_LOAN_AMOUNT*{cat}_flag * is_open * 3mn_diff_retro_report_dt_flag) as avg_samt_{cat}\"\"\") for agg_func in ['mean'] for cat in categories] \\\n",
    "+ [F.expr(f\"\"\"{agg_func}(HIGHEST_CREDIT_OR_LOAN_AMOUNT*{cat}_flag * is_open * 3mn_diff_retro_report_dt_flag * 1.0) as {agg_func}_samt_{cat}\"\"\") for agg_func in ['max', 'min'] for cat in categories]\n",
    "\n",
    "\n",
    "\n",
    "agg_expr_3k2 = []\\\n",
    "+ [F.expr(f\"\"\"sum(nbr_of_open_accnts_{cat}_{mn}M) as nbr_of_open_accnts_{cat}_{mn}M\"\"\") for cat in categories for mn in [3,6,12,24]] \\\n",
    "+ [F.expr(f\"\"\"sum(nbr_of_live_accnts_rep{cat}_{mn}M) as nbr_of_live_accnts_rep{cat}_{mn}M\"\"\") for cat in categories for mn in [3,6,12,24]]\\\n",
    "+ [F.expr(f\"\"\"sum(tot_live_bal_{cat}_{mn}M) as tot_live_bal_{cat}_{mn}M\"\"\") for cat in categories for mn in [3,6,12,24]]\\\n",
    "+ [F.expr(f\"\"\"sum(tot_live_sanction_{cat}_{mn}M) as tot_live_sanction_{cat}_{mn}M\"\"\") for cat in categories for mn in [3,6,12,24]] \\\n",
    "+ [F.expr(f\"\"\"{agg_func}(mon_util * {cat}_flag * {mon}mn_diff_retro_report_dt_flag * is_open) as avg_util_{cat}_{mon}M\"\"\") for agg_func in ['mean'] for cat in categories for mon in [3, 6, 12, 24]] \\\n",
    "+ [F.expr(f\"\"\"{agg_func}(month_diff_open_close * {cat}_flag * {mon}mn_diff_retro_report_dt_flag) as mons_diff_O_C_{agg_func}{cat}_{mon}M\"\"\") for agg_func in ['min', 'max', 'mean', 'median'] for cat in categories for mon in [3,6,12,24] ] \\\n",
    "+ [F.expr(\"mean(dateopened_diff) as avg_time_acct_open\")] \\\n",
    "+ [F.expr(\"mean(lt10k_flag * dateopened_diff_lt10k) as avg_time_acct_open_lt10k\")] \\\n",
    "+ [F.expr(\"mean(gt30k_flag * dateopened_diff_gt30k) as avg_time_acct_open_gt30k\")]\n",
    "\n",
    "\n",
    "\n",
    "agg_expr_3k3 = []\\\n",
    "+ [F.expr(f\"\"\"{agg_func}(balance_3k * {cat}_flag * dpd_gt_{dpd}_{mn}m_flag * dpd_present_{mn}M_flag) as del_bal_sum_{cat}_{mn}M_{dpd}_plus\"\"\") for agg_func in ['sum'] for cat in categories2 for mn in [1,3,6,12,24] for dpd in ['0','30','60','90','180']] \\\n",
    "+ [F.expr(f\"\"\"{agg_func}(HIGHEST_CREDIT_OR_LOAN_AMOUNT * month_lag_{mn}M * dpd_present_{mn}M_flag) as Total_sanctions_{mn}M\"\"\") for agg_func in ['sum'] for mn in [1,3,6,12,24] ] \\\n",
    "+ [F.expr(f\"\"\"{agg_func}(month_lag_{mn}M * dpd_present_{mn}M_flag) as Total_accounts_{mn}M\"\"\") for agg_func in ['sum'] for mn in [1,3,6,12,24] ] \\\n",
    "+ [F.expr(f\"\"\"{agg_func}({cat}_flag * dpd_gt_{dpd}_{mn}m_count * dpd_present_{mn}M_flag ) as nbr_times_{dpd}plus_{cat}_{mn}M\"\"\") for agg_func in ['max'] for cat in categories2 for mn in [1,3,6,12,24] for dpd in ['0','30','60','90','180']] \\\n",
    "+ [F.expr(f\"\"\"{agg_func}({cat}_flag * dpd_gt_{dpd}_{mn}m_flag * dpd_present_{mn}M_flag) as nbr_{dpd}plus_products_{cat}_{mn}M\"\"\") for agg_func in ['sum'] for cat in categories2 for mn in [1,3,6,12,24] for dpd in ['0','30','60','90','180']] \\\n",
    "+ [F.expr(f\"\"\"{agg_func}({cat}_flag * dpd_gt_{dpd}_{mn}m_flag * dpd_present_{mn}M_flag) as del_accounts_{cat}_{mn}M_{dpd}_plus\"\"\") for agg_func in ['sum'] for cat in categories2 for mn in [1,3,6,12,24] for dpd in ['0','30','60','90','180']] \\\n",
    "+ [F.expr(f\"\"\"{agg_func}(HIGHEST_CREDIT_OR_LOAN_AMOUNT * {cat}_flag * dpd_gt_{dpd}_{mn}m_flag * dpd_present_{mn}M_flag) as del_sanctions_{cat}_{mn}M_{dpd}_plus\"\"\") for agg_func in ['sum'] for cat in categories2 for mn in [1,3,6,12,24] for dpd in ['0','30','60','90','180']] \\\n",
    "+ [F.expr(f\"\"\"{agg_func}({cat}_flag * max_dpd_{mn}m_flag * dpd_present_{mn}M_flag) as max_dpd_{cat}_{mn}M_temp\"\"\") for agg_func in ['max'] for cat in categories2 for mn in [1,3,6,12,24]] \n",
    "\n",
    "\n",
    "\n",
    "expr_3k4 = [\"*\"] \\\n",
    "+ [f\"round(tot_live_bal_{cat}_{mon}M / tot_live_sanction_{cat}_{mon}M, 3) as sum_util_{cat}_{mon}M\" for cat in categories for mon in [3, 6, 12, 24]] \\\n",
    "+ [f\"First_loan_amt_{cat}/latest_loan_amt_{cat} as ratio_fl_{cat}\" for cat in categories] \\\n",
    "+ [f\"max_samt_{cat}/min_samt_{cat} as ratio_max_min_{cat}\" for cat in categories] \\\n",
    "+ [f\"max_samt_{cat}/avg_samt_{cat} as ratio_max_avg_{cat}\" for cat in categories] \\\n",
    "+ [\" case when max_dpd_{cat}_{mn}M_temp = 0 then 0  \\\n",
    "         when max_dpd_{cat}_{mn}M_temp = 1 then 1  \\\n",
    "         when max_dpd_{cat}_{mn}M_temp = 2 then 30  \\\n",
    "         when max_dpd_{cat}_{mn}M_temp = 3 then 60  \\\n",
    "         when max_dpd_{cat}_{mn}M_temp = 4 then 90  \\\n",
    "         when max_dpd_{cat}_{mn}M_temp = 5 then 120 \\\n",
    "         when max_dpd_{cat}_{mn}M_temp = 6 then 180  \\\n",
    "         when max_dpd_{cat}_{mn}M_temp = 7 then 180 \\\n",
    "         else null end as max_dpd_{cat}_{mn}M\".format(cat = cat, mn = mn) for cat in categories2 for mn in [1,3,6,12,24]]\n",
    "\n",
    "\n",
    "\n",
    "expr_3k5 = [\"*\"] \\\n",
    "+ [f\"del_bal_sum_{cat}_{mn}M_{dpd}_plus / Total_sanctions_{mn}M as ratio_del_bal{cat}_{mn}M\" for cat in categories2 for mn in [1,3,6,12,24] for dpd in ['180']] \\\n",
    "+ [f\"del_accounts_{cat}_{mn}M_{dpd}_plus / Total_accounts_{mn}M as ratio_del_act{cat}_{mn}M\" for cat in categories2 for mn in [1,3,6,12,24] for dpd in ['180']] \\\n",
    "+ [f\"del_sanctions_{cat}_{mn}M_{dpd}_plus / Total_sanctions_{mn}M as ratio_del_sanc{cat}_{mn}M\" for cat in categories2 for mn in [1,3,6,12,24] for dpd in ['180']] \\\n",
    "+ [f\"del_bal_sum_{cat}_{mn}M_{dpd}_plus / Total_sanctions_{mn}M as ratio_del_bal{cat}_{mn}M_{dpd}_plus\" for cat in categories2 for mn in [1,3,6,12,24] for dpd in ['0','30','60','90']] \\\n",
    "+ [f\"del_accounts_{cat}_{mn}M_{dpd}_plus / Total_accounts_{mn}M as ratio_del_act{cat}_{mn}M_{dpd}_plus\" for cat in categories2 for mn in [1,3,6,12,24] for dpd in ['0','30','60','90']] \\\n",
    "+ [f\"del_sanctions_{cat}_{mn}M_{dpd}_plus / Total_sanctions_{mn}M as ratio_del_sanc{cat}_{mn}M_{dpd}_plus\" for cat in categories2 for mn in [1,3,6,12,24] for dpd in ['0','30','60','90']]\n",
    "\n"
   ]
  },
  {
   "cell_type": "code",
   "execution_count": 8,
   "id": "1c4ea875-cd39-45dd-96d0-d3b4dcf3dacb",
   "metadata": {
    "tags": []
   },
   "outputs": [],
   "source": [
    "agg_expr = agg_expr_3k1 + agg_expr_3k2 + agg_expr_3k3\n",
    "\n",
    "\n",
    "w_3k1 = Window.partitionBy(\"MemberReference\").orderBy(\"dateopened\")\n",
    "w_3k2 = Window.partitionBy(\"MemberReference\").orderBy(\"dateopened_lt10k\")\n",
    "w_3k3 = Window.partitionBy(\"MemberReference\").orderBy(\"dateopened_gt30k\")\n",
    "\n"
   ]
  },
  {
   "cell_type": "code",
   "execution_count": null,
   "id": "577310ef-b426-49fb-8562-fec6db8a0f33",
   "metadata": {},
   "outputs": [],
   "source": []
  },
  {
   "cell_type": "code",
   "execution_count": 9,
   "id": "72f6794a-12ac-4c3c-a63e-ce1dc49c5781",
   "metadata": {
    "tags": []
   },
   "outputs": [
    {
     "name": "stderr",
     "output_type": "stream",
     "text": [
      "                                                                                \r"
     ]
    }
   ],
   "source": [
    "df = spark.read.parquet(prep_data_path + \"prep_tl_data.parquet\")"
   ]
  },
  {
   "cell_type": "code",
   "execution_count": 10,
   "id": "15ef0316-b3e6-4a37-bd2b-920df5493f2b",
   "metadata": {
    "scrolled": true
   },
   "outputs": [
    {
     "data": {
      "text/plain": [
       "['EnquiryControlNumber',\n",
       " 'MemberReference',\n",
       " 'acct_uniq_id',\n",
       " 'Loan_Status',\n",
       " 'Loan_Type',\n",
       " 'Loan_Classification',\n",
       " 'SANCTIONAMOUNT',\n",
       " 'HIGHCREDIT',\n",
       " 'BALANCE',\n",
       " 'actual_emi',\n",
       " 'CREDITLIMIT',\n",
       " 'CASHLIMIT',\n",
       " 'lastpayment',\n",
       " 'Interest_Rates',\n",
       " 'repaymenttenure',\n",
       " 'Income',\n",
       " 'monthly_annual_indicator',\n",
       " 'net_gross_indicator',\n",
       " 'occupation_code',\n",
       " 'collateral_type',\n",
       " 'collateral_value',\n",
       " 'DATE_OPENED',\n",
       " 'DATE_CLOSED',\n",
       " 'DateReported_trades',\n",
       " 'Pay_Hist_Start_Date',\n",
       " 'Pay_Hist_END_Date',\n",
       " 'Ownership_Type',\n",
       " 'AMOUNT_OVERDUE',\n",
       " 'Tenor_Frequency',\n",
       " 'is_suit_filed_or_wilful_default',\n",
       " 'is_written_off_or_settled',\n",
       " 'written_off_amount',\n",
       " 'written_off_amount_principal',\n",
       " 'settlement_amt',\n",
       " 'Dpd_string',\n",
       " 'PL_Propensity_Score',\n",
       " 'NTC_Score',\n",
       " 'TU_Score',\n",
       " 'ExclusionCode1',\n",
       " 'ExclusionCode2',\n",
       " 'ExclusionCode3',\n",
       " 'ExclusionCode4',\n",
       " 'ExclusionCode5',\n",
       " 'ExclusionCode6',\n",
       " 'ExclusionCode7',\n",
       " 'ReasonCode1',\n",
       " 'ReasonCode2',\n",
       " 'ReasonCode3',\n",
       " 'ReasonCode4',\n",
       " 'ReasonCode5',\n",
       " 'ErrorCode',\n",
       " 'account_holder_type',\n",
       " 'run_dt',\n",
       " 'dateReport',\n",
       " 'DATE_OPENED_pad',\n",
       " 'DATE_CLOSED_pad',\n",
       " 'Pay_Hist_Start_Date_pad',\n",
       " 'Last_payment_date_pad',\n",
       " 'datereported_trades_c',\n",
       " 'DATEOPENED',\n",
       " 'PAYMENT_HISTORY_START_DATE',\n",
       " 'datereported_trades1',\n",
       " 'DATEREPORTED',\n",
       " 'month_diff',\n",
       " 'create_date_n',\n",
       " 'PAYMT_DPD_BKT_1',\n",
       " 'PAYMT_DPD_BKT_2',\n",
       " 'PAYMT_DPD_BKT_3',\n",
       " 'PAYMT_DPD_BKT_4',\n",
       " 'PAYMT_DPD_BKT_5',\n",
       " 'PAYMT_DPD_BKT_6',\n",
       " 'PAYMT_DPD_BKT_7',\n",
       " 'PAYMT_DPD_BKT_8',\n",
       " 'PAYMT_DPD_BKT_9',\n",
       " 'PAYMT_DPD_BKT_10',\n",
       " 'PAYMT_DPD_BKT_11',\n",
       " 'PAYMT_DPD_BKT_12',\n",
       " 'PAYMT_DPD_BKT_13',\n",
       " 'PAYMT_DPD_BKT_14',\n",
       " 'PAYMT_DPD_BKT_15',\n",
       " 'PAYMT_DPD_BKT_16',\n",
       " 'PAYMT_DPD_BKT_17',\n",
       " 'PAYMT_DPD_BKT_18',\n",
       " 'PAYMT_DPD_BKT_19',\n",
       " 'PAYMT_DPD_BKT_20',\n",
       " 'PAYMT_DPD_BKT_21',\n",
       " 'PAYMT_DPD_BKT_22',\n",
       " 'PAYMT_DPD_BKT_23',\n",
       " 'PAYMT_DPD_BKT_24',\n",
       " 'PAYMT_DPD_BKT_25',\n",
       " 'PAYMT_DPD_BKT_26',\n",
       " 'PAYMT_DPD_BKT_27',\n",
       " 'PAYMT_DPD_BKT_28',\n",
       " 'PAYMT_DPD_BKT_29',\n",
       " 'PAYMT_DPD_BKT_30',\n",
       " 'PAYMT_DPD_BKT_31',\n",
       " 'PAYMT_DPD_BKT_32',\n",
       " 'PAYMT_DPD_BKT_33',\n",
       " 'PAYMT_DPD_BKT_34',\n",
       " 'PAYMT_DPD_BKT_35',\n",
       " 'PAYMT_DPD_BKT_36',\n",
       " 'PRODUCT_TYPE',\n",
       " 'FLAG_SECURED_UNSEC',\n",
       " 'ref_date',\n",
       " 'payment_history_end_date',\n",
       " 'DATECLOSED',\n",
       " 'LASTPAYMENTDATE',\n",
       " 'p_hist_bucket_1',\n",
       " 'p_hist_bucket_2',\n",
       " 'p_hist_bucket_3',\n",
       " 'p_hist_bucket_4',\n",
       " 'p_hist_bucket_5',\n",
       " 'p_hist_bucket_6',\n",
       " 'p_hist_bucket_7',\n",
       " 'p_hist_bucket_8',\n",
       " 'p_hist_bucket_9',\n",
       " 'p_hist_bucket_10',\n",
       " 'p_hist_bucket_11',\n",
       " 'p_hist_bucket_12',\n",
       " 'p_hist_bucket_13',\n",
       " 'p_hist_bucket_14',\n",
       " 'p_hist_bucket_15',\n",
       " 'p_hist_bucket_16',\n",
       " 'p_hist_bucket_17',\n",
       " 'p_hist_bucket_18',\n",
       " 'p_hist_bucket_19',\n",
       " 'p_hist_bucket_20',\n",
       " 'p_hist_bucket_21',\n",
       " 'p_hist_bucket_22',\n",
       " 'p_hist_bucket_23',\n",
       " 'p_hist_bucket_24',\n",
       " 'p_hist_bucket_25',\n",
       " 'p_hist_bucket_26',\n",
       " 'p_hist_bucket_27',\n",
       " 'p_hist_bucket_28',\n",
       " 'p_hist_bucket_29',\n",
       " 'p_hist_bucket_30',\n",
       " 'p_hist_bucket_31',\n",
       " 'p_hist_bucket_32',\n",
       " 'p_hist_bucket_33',\n",
       " 'p_hist_bucket_34',\n",
       " 'p_hist_bucket_35',\n",
       " 'p_hist_bucket_36',\n",
       " 'phist_buckets',\n",
       " 'PastDueAmount_new',\n",
       " 'PASTDUEAMOUNT',\n",
       " 'NEGATIVE_BALANCE_FLAG',\n",
       " 'ACCOUNT_TYPE',\n",
       " 'mn_diff_retro_start',\n",
       " 'mn_diff_retro_end',\n",
       " 'mn_diff_retro_report',\n",
       " 'mn_diff_retro_open',\n",
       " 'mn_diff_retro_close',\n",
       " 'mn_diff_retro_payment',\n",
       " 'pre_fill',\n",
       " 'dpd_cut_len',\n",
       " 'mn_diff_start_end',\n",
       " 'dpd_bucket_int_1',\n",
       " 'dpd_bucket_int_2',\n",
       " 'dpd_bucket_int_3',\n",
       " 'dpd_bucket_int_4',\n",
       " 'dpd_bucket_int_5',\n",
       " 'dpd_bucket_int_6',\n",
       " 'dpd_bucket_int_7',\n",
       " 'dpd_bucket_int_8',\n",
       " 'dpd_bucket_int_9',\n",
       " 'dpd_bucket_int_10',\n",
       " 'dpd_bucket_int_11',\n",
       " 'dpd_bucket_int_12',\n",
       " 'dpd_bucket_int_13',\n",
       " 'dpd_bucket_int_14',\n",
       " 'dpd_bucket_int_15',\n",
       " 'dpd_bucket_int_16',\n",
       " 'dpd_bucket_int_17',\n",
       " 'dpd_bucket_int_18',\n",
       " 'dpd_bucket_int_19',\n",
       " 'dpd_bucket_int_20',\n",
       " 'dpd_bucket_int_21',\n",
       " 'dpd_bucket_int_22',\n",
       " 'dpd_bucket_int_23',\n",
       " 'dpd_bucket_int_24',\n",
       " 'dpd_bucket_int_25',\n",
       " 'dpd_bucket_int_26',\n",
       " 'dpd_bucket_int_27',\n",
       " 'dpd_bucket_int_28',\n",
       " 'dpd_bucket_int_29',\n",
       " 'dpd_bucket_int_30',\n",
       " 'dpd_bucket_int_31',\n",
       " 'dpd_bucket_int_32',\n",
       " 'dpd_bucket_int_33',\n",
       " 'dpd_bucket_int_34',\n",
       " 'dpd_bucket_int_35',\n",
       " 'dpd_bucket_int_36',\n",
       " 'dpd_bucket_1',\n",
       " 'dpd_bucket_2',\n",
       " 'dpd_bucket_3',\n",
       " 'dpd_bucket_4',\n",
       " 'dpd_bucket_5',\n",
       " 'dpd_bucket_6',\n",
       " 'dpd_bucket_7',\n",
       " 'dpd_bucket_8',\n",
       " 'dpd_bucket_9',\n",
       " 'dpd_bucket_10',\n",
       " 'dpd_bucket_11',\n",
       " 'dpd_bucket_12',\n",
       " 'dpd_bucket_13',\n",
       " 'dpd_bucket_14',\n",
       " 'dpd_bucket_15',\n",
       " 'dpd_bucket_16',\n",
       " 'dpd_bucket_17',\n",
       " 'dpd_bucket_18',\n",
       " 'dpd_bucket_19',\n",
       " 'dpd_bucket_20',\n",
       " 'dpd_bucket_21',\n",
       " 'dpd_bucket_22',\n",
       " 'dpd_bucket_23',\n",
       " 'dpd_bucket_24',\n",
       " 'dpd_bucket_25',\n",
       " 'dpd_bucket_26',\n",
       " 'dpd_bucket_27',\n",
       " 'dpd_bucket_28',\n",
       " 'dpd_bucket_29',\n",
       " 'dpd_bucket_30',\n",
       " 'dpd_bucket_31',\n",
       " 'dpd_bucket_32',\n",
       " 'dpd_bucket_33',\n",
       " 'dpd_bucket_34',\n",
       " 'dpd_bucket_35',\n",
       " 'dpd_bucket_36',\n",
       " 'phist_bucket_1',\n",
       " 'phist_bucket_2',\n",
       " 'phist_bucket_3',\n",
       " 'phist_bucket_4',\n",
       " 'phist_bucket_5',\n",
       " 'phist_bucket_6']"
      ]
     },
     "execution_count": 10,
     "metadata": {},
     "output_type": "execute_result"
    }
   ],
   "source": [
    "df.columns"
   ]
  },
  {
   "cell_type": "code",
   "execution_count": 11,
   "id": "8bfed8df-0b4e-4d7b-9a20-e1cd17895324",
   "metadata": {},
   "outputs": [],
   "source": [
    "df1 = df\\\n",
    ".withColumn(\"balance_3k\", F.when(F.col(\"balance\") < 0,F.lit(0)).otherwise(F.col(\"balance\")))\\\n",
    ".withColumn('mn_diff_retro_report', F.months_between(F.trunc('run_dt','month'), F.trunc('datereported', 'month')))\\\n",
    ".withColumn('HIGHEST_CREDIT_OR_LOAN_AMOUNT' , F.greatest(F.col('highcredit') , F.col('sanctionamount'), F.lit(0)))\n",
    "\n"
   ]
  },
  {
   "cell_type": "code",
   "execution_count": 12,
   "id": "e0fd19ca-0fcb-4152-80f5-d088d3759d4c",
   "metadata": {},
   "outputs": [
    {
     "name": "stderr",
     "output_type": "stream",
     "text": [
      "                                                                                \r"
     ]
    },
    {
     "name": "stdout",
     "output_type": "stream",
     "text": [
      "+---------------------------------------------+-----+\n",
      "|ACCOUNT_TYPE                                 |count|\n",
      "+---------------------------------------------+-----+\n",
      "|Loan to Professional                         |1    |\n",
      "|Credit Card                                  |28   |\n",
      "|Loan Against Bank Deposits                   |7    |\n",
      "|Construction Equipment Loan                  |1    |\n",
      "|Consumer Loan                                |12   |\n",
      "|Housing Loan                                 |18   |\n",
      "|Personal Loan                                |41   |\n",
      "|Auto Loan (Personal)                         |11   |\n",
      "|Business Loan - Priority Sector - Agriculture|20   |\n",
      "|Gold Loan                                    |61   |\n",
      "|Other                                        |6    |\n",
      "|Property Loan                                |5    |\n",
      "|Two-wheeler Loan                             |13   |\n",
      "|Commercial Vehicle Loan                      |3    |\n",
      "|Used Car Loan                                |1    |\n",
      "+---------------------------------------------+-----+\n",
      "\n"
     ]
    }
   ],
   "source": [
    "df1.groupBy(\"ACCOUNT_TYPE\").count().show(20,False)"
   ]
  },
  {
   "cell_type": "code",
   "execution_count": 13,
   "id": "8630ebc9-c25f-4c98-89bf-c2f97e8c2f7a",
   "metadata": {
    "tags": []
   },
   "outputs": [],
   "source": [
    "df2 = df1\\\n",
    ".withColumn(\"dateopened_lag\", F.lag(\"dateopened\").over(w_3k1))\\\n",
    ".withColumn(\"dateopened_diff\", F.datediff(\"dateopened\",\"dateopened_lag\"))\\\n",
    ".withColumn(\"lt10k_flag\", F.expr(\"case when HIGHEST_CREDIT_OR_LOAN_AMOUNT <= 10000 then 1 else null end\"))\\\n",
    ".withColumn(\"gt30k_flag\", F.expr(\"case when HIGHEST_CREDIT_OR_LOAN_AMOUNT > 30000 then 1 else null end\"))\\\n",
    ".withColumn(\"dateopened_lt10k\", F.expr(\"case when lt10k_flag = 1 then dateopened else null end\"))\\\n",
    ".withColumn(\"dateopened_gt30k\", F.expr(\"case when gt30k_flag = 1 then dateopened else null end\"))\\\n",
    ".withColumn(\"dateopened_lag_lt10k\", F.lag(\"dateopened_lt10k\").over(w_3k2))\\\n",
    ".withColumn(\"dateopened_diff_lt10k\", F.datediff(\"dateopened\",\"dateopened_lag_lt10k\"))\\\n",
    ".withColumn(\"dateopened_lag_gt30k\", F.lag(\"dateopened_gt30k\").over(w_3k3))\\\n",
    ".withColumn(\"dateopened_diff_gt30k\", F.datediff(\"dateopened\",\"dateopened_lag_gt30k\"))\n",
    "\n",
    "\n",
    "trd3k = df2\\\n",
    ".selectExpr(expr_3k1)\\\n",
    ".selectExpr(expr_3k2)\\\n",
    ".selectExpr(expr_3k3)\\\n",
    ".groupBy(\"MemberReference\")\\\n",
    ".agg(*agg_expr)\\\n",
    ".replace(\n",
    "    to_replace = 0 , \n",
    "    value = 0.1 ,\n",
    "    subset = [f\"min_samt_{cat}\" for cat in categories] + [f\"latest_loan_amt_{cat}\" for cat in categories]\n",
    ")\\\n",
    ".selectExpr(expr_3k4)\\\n",
    ".selectExpr(expr_3k5)\\\n",
    ".drop(*[f\"max_dpd_{cat}_{mn}M_temp\" for cat in categories2 for mn in [1,3,6,12,24] ])\n",
    "\n"
   ]
  },
  {
   "cell_type": "code",
   "execution_count": null,
   "id": "b31ac0d7-5074-45bb-bf30-ee0a27381712",
   "metadata": {},
   "outputs": [],
   "source": []
  },
  {
   "cell_type": "code",
   "execution_count": null,
   "id": "96753d2b-bfb7-4c1c-abf4-fc941d2ed5c2",
   "metadata": {},
   "outputs": [],
   "source": []
  },
  {
   "cell_type": "code",
   "execution_count": 14,
   "id": "e3f4d9d0-a624-4455-a51a-5f329f1b75a5",
   "metadata": {
    "tags": []
   },
   "outputs": [
    {
     "data": {
      "text/plain": [
       "3098"
      ]
     },
     "execution_count": 14,
     "metadata": {},
     "output_type": "execute_result"
    }
   ],
   "source": [
    "len(trd3k.columns)"
   ]
  },
  {
   "cell_type": "code",
   "execution_count": 15,
   "id": "25825d7d-5376-46ec-b51b-84cd25690c10",
   "metadata": {
    "tags": []
   },
   "outputs": [],
   "source": [
    "# trd3k.show(1)"
   ]
  },
  {
   "cell_type": "code",
   "execution_count": 18,
   "id": "82e8a10f-4a22-45a6-ad0f-12899f8cb30e",
   "metadata": {
    "tags": []
   },
   "outputs": [
    {
     "name": "stderr",
     "output_type": "stream",
     "text": [
      "25/05/13 13:11:28 WARN SparkStringUtils: Truncated the string representation of a plan since it was too large. This behavior can be adjusted by setting 'spark.sql.debug.maxToStringFields'.\n",
      "25/05/13 13:11:33 WARN DAGScheduler: Broadcasting large task binary with size 3.8 MiB\n",
      "                                                                                \r"
     ]
    }
   ],
   "source": [
    "trd3k.write.mode(\"overwrite\").parquet(prep_data_path + \"cir_3k_features_spark.parquet\")\n"
   ]
  },
  {
   "cell_type": "code",
   "execution_count": null,
   "id": "b79ec9be-a072-4f0f-8063-221e43281c92",
   "metadata": {
    "tags": []
   },
   "outputs": [],
   "source": [
    "quit()"
   ]
  },
  {
   "cell_type": "code",
   "execution_count": null,
   "id": "7f0d3574-d201-4709-8ddd-ec3e2ff541ca",
   "metadata": {},
   "outputs": [],
   "source": []
  },
  {
   "cell_type": "code",
   "execution_count": null,
   "id": "ec79719f-7baf-4326-a982-395081abbf5f",
   "metadata": {},
   "outputs": [],
   "source": []
  }
 ],
 "metadata": {
  "kernelspec": {
   "display_name": "Python 3 (ipykernel)",
   "language": "python",
   "name": "python3"
  },
  "language_info": {
   "codemirror_mode": {
    "name": "ipython",
    "version": 3
   },
   "file_extension": ".py",
   "mimetype": "text/x-python",
   "name": "python",
   "nbconvert_exporter": "python",
   "pygments_lexer": "ipython3",
   "version": "3.9.7"
  }
 },
 "nbformat": 4,
 "nbformat_minor": 5
}
