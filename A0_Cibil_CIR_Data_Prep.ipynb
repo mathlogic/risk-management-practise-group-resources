{
 "cells": [
  {
   "cell_type": "markdown",
   "id": "8bd3ef8a-4b47-4f5f-bb36-46ec0ccadbf1",
   "metadata": {},
   "source": [
    "### `Dependencies`"
   ]
  },
  {
   "cell_type": "code",
   "execution_count": 1,
   "id": "52c02121-dc70-45f2-b284-4c7a5e277689",
   "metadata": {
    "tags": []
   },
   "outputs": [],
   "source": [
    "from pyspark.sql import SparkSession\n",
    "from pyspark.sql import functions as F\n",
    "from pyspark.sql.window import Window\n",
    "from pyspark.sql import types as T\n",
    "from pyspark.sql.types import *\n",
    "\n",
    "import pandas as pd\n",
    "import sys\n",
    "import os"
   ]
  },
  {
   "cell_type": "code",
   "execution_count": 2,
   "id": "fbb21441-7198-4c70-96ce-86ad5822b915",
   "metadata": {
    "tags": []
   },
   "outputs": [
    {
     "name": "stderr",
     "output_type": "stream",
     "text": [
      "Setting default log level to \"WARN\".\n",
      "To adjust logging level use sc.setLogLevel(newLevel). For SparkR, use setLogLevel(newLevel).\n",
      "25/05/08 07:33:55 WARN NativeCodeLoader: Unable to load native-hadoop library for your platform... using builtin-java classes where applicable\n"
     ]
    }
   ],
   "source": [
    "spark = SparkSession.builder.appName('abc')\\\n",
    ".config('spark.driver.memory','10g')\\\n",
    ".config('spark.sql.legacy.timeParserPolicy','LEGACY')\\\n",
    ".config('spark.sql.codegen.wholeStage', 'false')\\\n",
    ".getOrCreate()"
   ]
  },
  {
   "cell_type": "code",
   "execution_count": 3,
   "id": "7d49036a-c9f9-4cf5-bfec-bc23f2064c8a",
   "metadata": {},
   "outputs": [],
   "source": [
    "pd.set_option('display.max_colwidth', None)"
   ]
  },
  {
   "cell_type": "code",
   "execution_count": null,
   "id": "9766e05c-0957-43ea-88d1-6fa72fb7f9c0",
   "metadata": {},
   "outputs": [],
   "source": []
  },
  {
   "cell_type": "code",
   "execution_count": null,
   "id": "d1908cd5-026e-4ac5-b881-2d203cd7ca26",
   "metadata": {
    "tags": []
   },
   "outputs": [],
   "source": [
    "data_dir = \"./data/\""
   ]
  },
  {
   "cell_type": "code",
   "execution_count": null,
   "id": "54561f27-97ee-4402-85a3-c421e08bec0c",
   "metadata": {},
   "outputs": [],
   "source": []
  },
  {
   "cell_type": "code",
   "execution_count": null,
   "id": "7e15ba82-8745-46c4-92ee-ef47a32a4b8f",
   "metadata": {},
   "outputs": [],
   "source": []
  },
  {
   "cell_type": "code",
   "execution_count": 3,
   "id": "c1a3397d-c4c0-47a2-a321-71fa2750e70a",
   "metadata": {
    "tags": []
   },
   "outputs": [],
   "source": [
    "raw_data_path = '/home/data/manu/sample/cibil/'\n",
    "prep_data_path = '/home/jupyter-monica.marmit/feature_enginerring/cibil/output/'"
   ]
  },
  {
   "cell_type": "code",
   "execution_count": 4,
   "id": "bd33e3ca-854f-45ee-9338-cc5e82ce0a8c",
   "metadata": {},
   "outputs": [],
   "source": [
    "run_date = '2024-05-01'"
   ]
  },
  {
   "cell_type": "code",
   "execution_count": null,
   "id": "d3687a0a-d289-42d4-8d86-274c4ee3f0be",
   "metadata": {
    "tags": []
   },
   "outputs": [],
   "source": [
    "# try:\n",
    "#     os.mkdir(data_dir + \"bureau\")\n",
    "#     os.mkdir(data_dir + \"bureau/cir\")\n",
    "#     os.mkdir(data_dir + \"bureau/cir/raw\")\n",
    "#     os.mkdir(data_dir + \"bureau/cir/raw/tradeline\")\n",
    "#     os.mkdir(data_dir + \"bureau/cir/raw/history\")\n",
    "#     os.mkdir(data_dir + \"bureau/cir/raw/inquiry\")\n",
    "#     os.mkdir(data_dir + \"bureau/scrub\")\n",
    "#     os.mkdir(data_dir + \"bureau/scrub/raw\")\n",
    "#     os.mkdir(data_dir + \"bureau/scrub/raw/tradeline\")\n",
    "#     os.mkdir(data_dir + \"bureau/scrub/raw/history\")\n",
    "#     os.mkdir(data_dir + \"bureau/scrub/raw/inquiry\")\n",
    "#     print(\"directory build sucessfull!!\")\n",
    "# except :\n",
    "#     print(\"some of the directory already exits.\\nplease clear all data in base directory and retry.\")"
   ]
  },
  {
   "cell_type": "code",
   "execution_count": null,
   "id": "d0cf6b28-52a0-43e6-b9f2-f136895687b0",
   "metadata": {
    "tags": []
   },
   "outputs": [],
   "source": []
  },
  {
   "cell_type": "code",
   "execution_count": null,
   "id": "216dece9-98fb-42d7-9c1e-8937b7b2d85d",
   "metadata": {},
   "outputs": [],
   "source": []
  },
  {
   "cell_type": "markdown",
   "id": "bdfa2f6b-5e00-4bfd-a11a-aa09f8cfa6ef",
   "metadata": {
    "tags": []
   },
   "source": [
    "### `Inquiry Data Preparation`\n",
    "\n",
    "#### `Inquiry Steps`\n",
    "    1. Read Inquiry Raw Files\n",
    "    2. Format Date and Integer Columns. Dates before 1950-01-01 are replaced with Null\n",
    "    3. Clean Account Type \n",
    "    4. Inquiry Data Filtering and Preprocessing\n",
    "    5. Inquiry Data Save\n",
    "    \n",
    "#### `Inquiry Data Filters`\n",
    "    1. Drop all duplicate records of Inquiry in a Day of Same Product Type keeping the one with Maximum Sanction Amount\n",
    "    2. Retro Date and Inq Date cannot be null\n",
    "    3. Retro Date > Inq Date\n",
    "    4. Inquiries of Last 3 Years to be considered"
   ]
  },
  {
   "cell_type": "code",
   "execution_count": 19,
   "id": "66d686ba-122a-4670-9652-8cd62d40c943",
   "metadata": {},
   "outputs": [],
   "source": [
    "sch_cd_iq=StructType([StructField('EnquiryControlNumber',IntegerType(),True),StructField('MemberReference',StringType(),True),StructField('EnquiringMemberShortName',StringType(),True),StructField('DateofEnquiry',StringType(),True),StructField('EnquiryPurpose',StringType(),True),StructField('EnquiryAmount',IntegerType(),True)])\n"
   ]
  },
  {
   "cell_type": "code",
   "execution_count": 20,
   "id": "58187b10-8395-4621-8ebf-7c5580dbf5a8",
   "metadata": {
    "tags": []
   },
   "outputs": [],
   "source": [
    "### Step 1 - Read Inquiry File\n",
    "\n",
    "inq_data0 = spark.read.csv(\n",
    "    raw_data_path + 'iq.csv',schema=sch_cd_iq,header=True\n",
    ")\n"
   ]
  },
  {
   "cell_type": "code",
   "execution_count": 16,
   "id": "4ff0560b-b3e4-4bd6-b22f-891ed9b46ac5",
   "metadata": {},
   "outputs": [
    {
     "name": "stdout",
     "output_type": "stream",
     "text": [
      "+--------------------+---------------+------------------------+-------------+--------------------+-------------+\n",
      "|EnquiryControlNumber|MemberReference|EnquiringMemberShortName|DateofEnquiry|      EnquiryPurpose|EnquiryAmount|\n",
      "+--------------------+---------------+------------------------+-------------+--------------------+-------------+\n",
      "|            99401699|       79238541|    NOT DISCLOSED    ...|    25-Jun-24|Credit Card      ...|       250000|\n",
      "|            99401699|       79238541|    NOT DISCLOSED    ...|    28-Dec-23|Credit Card      ...|         1400|\n",
      "|            99401699|       79238541|    NOT DISCLOSED    ...|    29-May-23|Credit Card      ...|         1400|\n",
      "|            99401699|       79238541|    NOT DISCLOSED    ...|     8-May-23|Credit Card      ...|         1400|\n",
      "|            99401699|       79238541|    NOT DISCLOSED    ...|    14-Mar-23|Auto Loan (Person...|         3420|\n",
      "|            99401699|       79238541|    NOT DISCLOSED    ...|    14-Mar-23|Auto Loan (Person...|         5490|\n",
      "|            99401699|       79238541|    NOT DISCLOSED    ...|    14-Mar-23|Auto Loan (Person...|         5590|\n",
      "|            99401699|       79238541|    NOT DISCLOSED    ...|    14-Mar-23|Auto Loan (Person...|         9590|\n",
      "|            99401699|       79238541|    NOT DISCLOSED    ...|    14-Mar-23|Auto Loan (Person...|         7400|\n",
      "|            99401699|       79238541|    NOT DISCLOSED    ...|    14-Mar-23|Auto Loan (Person...|         9400|\n",
      "|            99401699|       79238541|    NOT DISCLOSED    ...|    14-Mar-23|Auto Loan (Person...|         3490|\n",
      "|            99401699|       79238541|    NOT DISCLOSED    ...|    14-Mar-23|Auto Loan (Person...|         8490|\n",
      "|            99401699|       79238541|    NOT DISCLOSED    ...|    14-Mar-23|Auto Loan (Person...|         9490|\n",
      "|            99401699|       79238541|    NOT DISCLOSED    ...|    14-Mar-23|Auto Loan (Person...|         1490|\n",
      "|            99401699|       79238541|    NOT DISCLOSED    ...|     3-Feb-23|Auto Loan (Person...|        37500|\n",
      "|            99401699|       79238541|    NOT DISCLOSED    ...|    30-Jan-23|Auto Loan (Person...|        36000|\n",
      "|            99401699|       79238541|    NOT DISCLOSED    ...|    30-Jan-23|Auto Loan (Person...|        36000|\n",
      "|            99401699|       79238541|    NOT DISCLOSED    ...|    30-Jan-23|Auto Loan (Person...|        38000|\n",
      "|            99401699|       79238541|    NOT DISCLOSED    ...|    30-Jan-23|Auto Loan (Person...|        37000|\n",
      "|            99401699|       79238541|    NOT DISCLOSED    ...|    27-Jan-23|Auto Loan (Person...|        80000|\n",
      "+--------------------+---------------+------------------------+-------------+--------------------+-------------+\n",
      "only showing top 20 rows\n",
      "\n"
     ]
    },
    {
     "name": "stderr",
     "output_type": "stream",
     "text": [
      "25/05/05 11:46:55 WARN CSVHeaderChecker: CSV header does not conform to the schema.\n",
      " Header: EnquiryControlNumber, MemberReference, EnquiringMemberShortName, DateofEnquiry, EnquiryPurpose                               , EnquiryAmount\n",
      " Schema: EnquiryControlNumber, MemberReference, EnquiringMemberShortName, DateofEnquiry, EnquiryPurpose, EnquiryAmount\n",
      "Expected: EnquiryPurpose but found: EnquiryPurpose                               \n",
      "CSV file: file:///home/data/manu/sample/cibil/iq.csv\n"
     ]
    }
   ],
   "source": [
    "inq_data0.show()"
   ]
  },
  {
   "cell_type": "code",
   "execution_count": 21,
   "id": "c0ee3097-87b4-4c07-aeae-149febee4d12",
   "metadata": {},
   "outputs": [],
   "source": [
    "iq_date_ipad = [\"*\"]\\\n",
    "+[F.lpad(F.col(\"DateofEnquiry\"),9,'0').alias(\"DateofEnquiry_pad\")]"
   ]
  },
  {
   "cell_type": "code",
   "execution_count": 22,
   "id": "8481d7d3-38a4-4880-a4ac-7ac796eaee09",
   "metadata": {},
   "outputs": [],
   "source": [
    "iq_cast_expr0 = [\"*\"]\\\n",
    "+[F.to_date(F.col(\"DateofEnquiry_pad\"),'dd-MMM-yy').alias('ENQUIRYDATE')]"
   ]
  },
  {
   "cell_type": "code",
   "execution_count": 23,
   "id": "d35213d7-b8d3-4c3d-8f83-b0a7e35b20ad",
   "metadata": {},
   "outputs": [],
   "source": [
    "w = Window.partitionBy(\"MemberReference\",\"ENQUIRYDATE\",\"EnquiryPurpose\").orderBy(F.desc(\"EnquiryAmount\"))"
   ]
  },
  {
   "cell_type": "code",
   "execution_count": 26,
   "id": "31666404-f1f5-4fd8-b9bf-6ad11bdd22ac",
   "metadata": {},
   "outputs": [],
   "source": [
    "inq_data1 = inq_data0\\\n",
    ".dropDuplicates()\\\n",
    ".withColumn(\"run_dt\",F.to_date(F.lit(run_date)))\\\n",
    ".select(*iq_date_ipad)\\\n",
    ".select(*iq_cast_expr0)\\\n",
    ".withColumn(\"EnquiryPurpose\", F.trim(F.col(\"EnquiryPurpose\")))\\\n",
    ".filter(\"ENQUIRYDATE is not null\")\\\n",
    ".filter(\"EnquiryPurpose is not null\")\\\n",
    ".withColumn(\"ReportToEnquiry\",F.months_between(F.trunc('run_dt','month'),F.trunc('ENQUIRYDATE','month')))\\\n",
    ".withColumn(\"row_num\",F.row_number().over(w))\\\n",
    ".filter(\"row_num = 1\")\\\n",
    ".drop(\"row_num\")"
   ]
  },
  {
   "cell_type": "code",
   "execution_count": 27,
   "id": "1cc64c1d-1869-4e2e-8e16-df03ffc0d778",
   "metadata": {},
   "outputs": [
    {
     "name": "stderr",
     "output_type": "stream",
     "text": [
      "25/05/08 07:43:07 WARN CSVHeaderChecker: CSV header does not conform to the schema.\n",
      " Header: EnquiryControlNumber, MemberReference, EnquiringMemberShortName, DateofEnquiry, EnquiryPurpose                               , EnquiryAmount\n",
      " Schema: EnquiryControlNumber, MemberReference, EnquiringMemberShortName, DateofEnquiry, EnquiryPurpose, EnquiryAmount\n",
      "Expected: EnquiryPurpose but found: EnquiryPurpose                               \n",
      "CSV file: file:///home/data/manu/sample/cibil/iq.csv\n"
     ]
    }
   ],
   "source": [
    "\n",
    "inq_data1.write.mode('overwrite').parquet(prep_data_path + 'prep_inq_data.parquet')"
   ]
  },
  {
   "cell_type": "markdown",
   "id": "07751d05-694f-45df-95ff-cc134650f298",
   "metadata": {
    "tags": []
   },
   "source": [
    "### `Tradeline Data Preparation`\n",
    "\n",
    "#### `Tradeline Steps`\n",
    "    \n",
    "    1. Read Tradeline Files\n",
    "    2. Clean Account Type\n",
    "    3. Create and Rename required columns\n",
    "    4. Format and Clean Numerical Columns\n",
    "    5. Format and Clean Date Columns. Replace Dates before 1950-01-01 with Null\n",
    "    6. Create p_hist columns from Retro Month -1 Month till Retro Month - 36 Months from History DPD File\n",
    "    7. Create DPD Buckets from Retro Date - 1 Month till Retro Date - 36 Months\n",
    "    8. Data Preprocessing and Filtering\n",
    "    9. Save Final Tradeline File\n",
    "    \n",
    "#### `Tradeline Column Format`\n",
    "    \n",
    "    1. Balance, Sanction Amount, High Credit and Past Due Amount < 0 are replace with 0\n",
    "    2. Credit Limit < 0 are replaced with Null\n",
    "    3. Dates <= 1950-01-01 are replaced with Null \n",
    "    4. DPD Buckets after payment history start date or before payment history end date are replaced with -2\n",
    "    5. In case of Payment History Start Date > Retro Date then replace Payment History Start Date with Retro Date - 1 Month\n",
    "        and cut DPD string accordingly\n",
    "    6. If Payment History Start Date > Retro Date then Balance & Past Due Amount are replaced with Null\n",
    "    7. If Last Payment Date > Retro Date then replace Last Payment Date is replaced with Null\n",
    "    8. If Date Closed > Retro Date then replace Date Closed with Null\n",
    "    \n",
    "#### `Tradeline Data Filters`\n",
    "    \n",
    "    1. Accounts for a customer are deduped at ID , Account Type , Open Date , Sanction Amount , High Credit & Credit Limit and\n",
    "        Account with Latest Reporting Date/ Highest Balance/ Latest Date Closed\n",
    "    2. Retro Date > Date Opened\n",
    "    3. Retro Date > Payment End Date\n",
    "    4. Retro Date , Date Opened & Payment History Start Date cannot be Null\n",
    "    5. Date Closed > Date Opened or Date Closed = Null\n",
    "    6. Hanging Trades are removed. Tradelines which have Retro Date - Date Reported > 36 Months are removed"
   ]
  },
  {
   "cell_type": "code",
   "execution_count": 28,
   "id": "f0e7e200-7886-47ae-9088-dfe7b4eeb67b",
   "metadata": {},
   "outputs": [],
   "source": [
    "sch_tl=StructType([StructField('EnquiryControlNumber',IntegerType(),True),StructField('MemberReference',StringType(),True),StructField('Loan_account_Number',StringType(),True),StructField('Loan_Status',StringType(),True),StructField('Loan_Type',StringType(),True),StructField('Loan_Classification',StringType(),True),StructField('Sanction_Amount',IntegerType(),True),StructField('High_Credit_Amount',IntegerType(),True),StructField('Out_standing_Balance',IntegerType(),True),StructField('EMI',IntegerType(),True),StructField('CREDITLIMIT',IntegerType(),True),StructField('CASH_LIMIT',IntegerType(),True),StructField('actual_paymt_amt',IntegerType(),True),StructField('Interest_Rates',DoubleType(),True),StructField('tenor',IntegerType(),True),StructField('Income',IntegerType(),True),StructField('monthly_annual_indicator',StringType(),True),StructField('net_gross_indicator',StringType(),True),StructField('occupation_code',IntegerType(),True),StructField('COLLATERALType',IntegerType(),True),StructField('COLLATERALVALUE',IntegerType(),True),StructField('DATE_OPENED',StringType(),True),StructField('DATE_CLOSED',StringType(),True),StructField('DateReported_trades',IntegerType(),True),StructField('Last_payment_date',IntegerType(),True),StructField('Pay_Hist_Start_Date',StringType(),True),StructField('Pay_Hist_END_Date',StringType(),True),StructField('Ownership_Type',StringType(),True),StructField('Over_due_amount',IntegerType(),True),StructField('Tenor_Frequency',IntegerType(),True),StructField('suit_filed_status',IntegerType(),True),StructField('Credit_Facility_Status',IntegerType(),True),StructField('writeoff_amt_tot',IntegerType(),True),StructField('writeoff_amt_prin',IntegerType(),True),StructField('settlement_amt',IntegerType(),True),StructField('Dpd_string',StringType(),True),StructField('PL_Propensity_Score',StringType(),True),StructField('NTC_Score',StringType(),True),StructField('TU_Score',StringType(),True),StructField('ExclusionCode1',StringType(),True),StructField('ExclusionCode2',StringType(),True),StructField('ExclusionCode3',StringType(),True),StructField('ExclusionCode4',StringType(),True),StructField('ExclusionCode5',StringType(),True),StructField('ExclusionCode6',StringType(),True),StructField('ExclusionCode7',StringType(),True),StructField('ReasonCode1',IntegerType(),True),StructField('ReasonCode2',IntegerType(),True),StructField('ReasonCode3',IntegerType(),True),StructField('ReasonCode4',IntegerType(),True),StructField('ReasonCode5',IntegerType(),True),StructField('ErrorCode',StringType(),True),StructField('Sector',StringType(),True)])\n",
    "\n"
   ]
  },
  {
   "cell_type": "code",
   "execution_count": 29,
   "id": "96fa4605-a296-49b0-9cef-d1fb50165627",
   "metadata": {},
   "outputs": [],
   "source": [
    "tl_data0 = spark.read.csv(\n",
    "    raw_data_path + 'tl.csv',schema=sch_tl,header=True\n",
    ")\n"
   ]
  },
  {
   "cell_type": "code",
   "execution_count": 30,
   "id": "28141ecf-5810-4cba-bb02-f3ef4d29335d",
   "metadata": {},
   "outputs": [],
   "source": [
    "new_column_names = [col.strip() for col in tl_data0.columns]\n",
    "tl_data1 = tl_data0.toDF(*new_column_names)"
   ]
  },
  {
   "cell_type": "code",
   "execution_count": 9,
   "id": "5698c40b-d239-4f25-bdb1-3e82950dba25",
   "metadata": {},
   "outputs": [
    {
     "name": "stdout",
     "output_type": "stream",
     "text": [
      "['DATE_OPENED', 'DATE_CLOSED', 'DateReported_trades', 'Last_payment_date', 'Pay_Hist_Start_Date', 'Pay_Hist_END_Date']\n"
     ]
    }
   ],
   "source": [
    "columnList = [col for col in tl_data0.columns if 'date' in col.lower()]\n",
    "print(columnList)"
   ]
  },
  {
   "cell_type": "code",
   "execution_count": 10,
   "id": "b650aeff-1f37-481f-a8dc-012f716c500b",
   "metadata": {},
   "outputs": [
    {
     "name": "stderr",
     "output_type": "stream",
     "text": [
      "                                                                                \r"
     ]
    },
    {
     "name": "stdout",
     "output_type": "stream",
     "text": [
      "+-----------+-----------+-------------------+-----------------+-------------------+-----------------+\n",
      "|DATE_OPENED|DATE_CLOSED|DateReported_trades|Last_payment_date|Pay_Hist_Start_Date|Pay_Hist_END_Date|\n",
      "+-----------+-----------+-------------------+-----------------+-------------------+-----------------+\n",
      "|  14-Nov-11|  26-Nov-11|           30112011|             NULL|           1-Nov-11|         1-Nov-11|\n",
      "+-----------+-----------+-------------------+-----------------+-------------------+-----------------+\n",
      "only showing top 1 row\n",
      "\n"
     ]
    }
   ],
   "source": [
    "tl_data0.select(*[F.col(col) for col in columnList]).show(1)"
   ]
  },
  {
   "cell_type": "code",
   "execution_count": 33,
   "id": "db2bd719-a95c-4ffa-b5c9-e66841b54b91",
   "metadata": {},
   "outputs": [],
   "source": [
    "vs_tl_date_ipad=[\"*\"]\\\n",
    "+[F.lpad(F.col(\"DATE_OPENED\"),9,'0').alias(\"DATE_OPENED_pad\")]\\\n",
    "+[F.lpad(F.col(\"DATE_CLOSED\"),9,'0').alias(\"DATE_CLOSED_pad\")]\\\n",
    "+[F.lpad(F.col(\"Pay_Hist_Start_Date\"),9,'0').alias(\"Pay_Hist_Start_Date_pad\")]\\\n",
    "+[F.lpad(F.col(\"Last_payment_date\"),9,'0').alias(\"Last_payment_date_pad\")]\n",
    " \n",
    "vs_tl_cast_expr0=[\"*\"]\\\n",
    "+[F.col(\"datereported_trades\").cast(StringType()).alias(\"datereported_trades_c\")]\\\n",
    "+[F.to_date(F.col(\"DATE_OPENED_pad\"), \"dd-MMM-yy\").alias(\"openDate\")]\\\n",
    "+[F.to_date(F.col(\"DATE_CLOSED_pad\"), \"dd-MMM-yy\").alias(\"DATECLOSE\")]\\\n",
    "+[F.to_date(F.col(\"Pay_Hist_Start_Date_pad\"), \"dd-MMM-yy\").alias(\"PaymentHistoryStartDate\")]\\\n",
    "+[F.to_date(F.col(\"Last_payment_date_pad\"), \"dd-MMM-yy\").alias(\"Last_payment_date\")]\n",
    " \n",
    "vs_tl_cast_expr1=[\"*\"]\\\n",
    "+[F.to_date(F.col(\"datereported_trades1\"), \"ddMMyyyy\").alias(\"dateReported\")]\n",
    " "
   ]
  },
  {
   "cell_type": "code",
   "execution_count": 46,
   "id": "90bee37e-cbfc-4aed-bd78-87894c156005",
   "metadata": {},
   "outputs": [],
   "source": [
    "vs_tl_expr2=[\"*\"]\\\n",
    "+[\"substring(dpd_string,\"+str(i+2*(i-1))+\",3) as PAYMT_DPD_BKT_\"+str(i) for i in range(1,37)]\\\n",
    "+[\"case when Loan_Type in ('Auto Loan (Personal)') then 'Auto_Loan' \\\n",
    "when Loan_Type in ('Microfinance - Personal Loan',\\\n",
    "    'Microfinance Personal Loan',\\\n",
    "    'P2P Personal Loan',\\\n",
    "    'Personal Loan') then 'Personal_Loan' \\\n",
    "when Loan_Type in ('Gold Loan') then 'Gold_Loan' \\\n",
    "when Loan_Type in ('Corporate Credit Card','Credit Card','Secured Credit Card','Fleet Card') then 'Credit_Card' \\\n",
    "when Loan_Type in ('Business Loan',\\\n",
    "    'Business Loan - General',\\\n",
    "    'Business Loan - Priority Sector - Agriculture',\\\n",
    "    'Business Loan - Priority Sector - Others',\\\n",
    "    'Business Loan - Priority Sector - Small Business',\\\n",
    "    'Business Loan - Unsecured',\\\n",
    "    'Business Loan - Secured',\\\n",
    "    'Business Loan Against Bank Deposits',\\\n",
    "    'Business Non-Funded Credit Facility - General',\\\n",
    "    'Business Non-Funded Credit Facility - Priority Sector - Agriculture',\\\n",
    "    'Business Non-Funded Credit Facility - Priority Sector - Small Business',\\\n",
    "    'Microfinance - Business Loan') then 'Business_Loan' \\\n",
    "when Loan_Type in ('Home Loan',\\\n",
    "    'Housing Loan',\\\n",
    "    'Microfinance Housing Loan') then 'Housing_Loan' \\\n",
    "when Loan_Type in ('Consumer Loan') then 'Consumer_Loan' \\\n",
    "when Loan_Type in ('Property Loan','LAP') then 'LAP' \\\n",
    "when Loan_Type in ('Two-wheeler Loan','TW') then 'Two-wheeler_Loan' \\\n",
    "when Loan_Type in ('Commercial Vehicle Loan','CV Loan') then 'Commercial_Vehicle' \\\n",
    "when Loan_Type in ('Used Car Loan', 'UCL') then 'Used_Car_Loan' \\\n",
    "when Loan_Type is Null then Null \\\n",
    "else 'OTHERS' end as PRODUCT_TYPE\"]\\\n",
    "+[\"case when Loan_Type in ('Auto Loan (Personal)','Business Loan Against Bank Deposits','Commercial Vehicle Loan','CV LOAN','Construction Equipment Loan','Gold Loan','HOME LOAN','Housing Loan','Leasing','Loan Against Bank Deposits','Loan Against Shares/Securities','Microfinance - Housing Loan','Property Loan','LAP','Secured Credit Card','Tractor Loan','TW','Two-wheeler Loan','UCL','Used Car Loan','Business Loan - Secured') or Loan_Type is Null then 'Secured' else 'Unsecured' end as FLAG_SECURED_UNSEC\"]\n",
    " "
   ]
  },
  {
   "cell_type": "code",
   "execution_count": 43,
   "id": "b980544e-816e-4c36-bd5d-7b3e0b68e2bf",
   "metadata": {},
   "outputs": [],
   "source": [
    "vs_tl_expr3 = [\"*\"]\\\n",
    "+[\"case when settlement_amt > 0 or writeoff_amt_tot > 0 then 1 else 0 end as WRITTEN_OFF_STATUS\"]\\\n",
    "+[\"case when PAYMT_DPD_BKT_\"+str(i)+\" in ('SUB','LSS','DBT') then 91 \\\n",
    "when PAYMT_DPD_BKT_\"+str(i)+\" = 'SMA' or (PAYMT_DPD_BKT_\"+str(i)+\" = 'STD' and UPPER(PRODUCT_DESC) != 'CC' and OVER_DUE_AMOUNT>5000) or (PAYMT_DPD_BKT_\"+str(i)+\" = 'STD' and UPPER(PRODUCT_DESC) = 'CC' and OVER_DUE_AMOUNT > 10000) then 89 \\\n",
    "when PAYMT_DPD_BKT_\"+str(i)+\" in ('XXX','DDD','X/X') then -1  when PAYMT_DPD_BKT_\"+str(i)+\" = 'STD' then 0 \\\n",
    "when PAYMT_DPD_BKT_\"+str(i)+\" = '901' and OVER_DUE_AMOUNT < 1000 then 0 \\\n",
    "when PAYMT_DPD_BKT_\"+str(i)+\" = '901' and OVER_DUE_AMOUNT >= 1000 and OVER_DUE_AMOUNT <= 2000 then 29 \\\n",
    "when PAYMT_DPD_BKT_\"+str(i)+\" = '901' and OVER_DUE_AMOUNT > 2000 and OVER_DUE_AMOUNT <= 5000 then 30 \\\n",
    "when PAYMT_DPD_BKT_\"+str(i)+\" = '901' and OVER_DUE_AMOUNT > 5000 then 90 \\\n",
    "when PAYMT_DPD_BKT_\"+str(i)+\" in ('902','903','904') then 91 \\\n",
    "when PAYMT_DPD_BKT_\"+str(i)+\" = 'DDD' then -11 \\\n",
    "when PAYMT_DPD_BKT_\"+str(i)+\" = '905' then 61 else cast(PAYMT_DPD_BKT_\"+str(i)+\" as int) end as PAYMT_DPD_\"+str(i) for i in range(1,37)]\n",
    " \n",
    "vs1_pp_tl_expr = [\"*\"]\\\n",
    "+[\"case when month_diff = 0 then date_add(trunc(add_months(run_dt, 1),'month'),-1) \\\n",
    "when month_diff = 1 then date_add(trunc(add_months(run_dt, 0),'month'),-1) \\\n",
    "when month_diff > 1 then date_add(trunc(add_months(run_dt, -1),'month'),-1) end as ref_date\"]\\\n",
    "+[\"case when PaymentHistoryStartDate is not null then PaymentHistoryStartDate \\\n",
    "when PaymentHistoryStartDate is null and dateReported is not null then dateReported \\\n",
    "when PaymentHistoryStartDate is null and dateReported is null then create_date_n end as paymentend_date\"]\\\n",
    "+[\"case when DATECLOSE < PaymentHistoryStartDate and DATECLOSE is not null then PaymentHistoryStartDate else DATECLOSE end as DATECLOSE_new\"]\n",
    " \n",
    " "
   ]
  },
  {
   "cell_type": "code",
   "execution_count": 36,
   "id": "050be9d6-032e-484c-9422-d74cf2a105d3",
   "metadata": {},
   "outputs": [],
   "source": [
    "vs2_tl_expr_payhits_new = [\"*\"]\\\n",
    "+[\"case when Last_payment_date ='' then DATECLOSE when Last_payment_date ='' and DATECLOSE = '' then dateReported else Last_payment_date end as Last_payment_date_new\"]\\\n",
    "+[\"case when PAYHITS_\"+str(i)+\" in ('SUB','LSS','DBT') then '091' \\\n",
    "when PAYHITS_\"+str(i)+\" = 'SMA' or (PAYHITS_\"+str(i)+\" = 'STD' and UPPER(PRODUCT_DESC) != 'CC' and PastDueAmount_new>5000) or (PAYHITS_\"+str(i)+\" = 'STD' and UPPER(PRODUCT_DESC) = 'CC' and PastDueAmount_new > 10000) then '089' \\\n",
    "when PAYHITS_\"+str(i)+\" in ('XXX','DDD') then '-11'  \\\n",
    "when PAYHITS_\"+str(i)+\" = 'STD' then '000' \\\n",
    "when PAYHITS_\"+str(i)+\" = '901' and PastDueAmount_new < 1000 then '000' \\\n",
    "when PAYHITS_\"+str(i)+\" = '901' and PastDueAmount_new >= 1000 and PastDueAmount_new <= 2000 then '029' \\\n",
    "when PAYHITS_\"+str(i)+\" = '901' and PastDueAmount_new > 2000 and PastDueAmount_new <= 5000 then '030' \\\n",
    "when PAYHITS_\"+str(i)+\" = '901' and PastDueAmount_new > 5000 then '090' \\\n",
    "when PAYHITS_\"+str(i)+\" in ('902','903','904') then '091' \\\n",
    "when PAYHITS_\"+str(i)+\" = '905' then '061' else PAYHITS_\"+str(i)+\" end as PAYHITS_NEW_\"+str(i) for i in range(1,37)]\\\n",
    "+[\"case when DATECLOSE is not null and DATECLOSE > openDate then months_between(trunc(DATECLOSE,'month'), trunc(openDate,'month')) \\\n",
    "else months_between(trunc(dateReported,'month'), trunc(openDate,'month')) end as MOB\"]\n",
    " \n",
    " "
   ]
  },
  {
   "cell_type": "code",
   "execution_count": 37,
   "id": "0eed7c22-e18f-4bdf-a1d0-5c6cc8207acc",
   "metadata": {},
   "outputs": [],
   "source": [
    "vs3_tl_expr_paymenthistory2 = [\"*\"]\\\n",
    "+[\"concat(payhits_new_1,payhits_new_2,payhits_new_3,payhits_new_4,payhits_new_5,payhits_new_6,payhits_new_7, \\\n",
    "payhits_new_8,payhits_new_9,payhits_new_10,payhits_new_11,payhits_new_12,payhits_new_13,payhits_new_14, \\\n",
    "payhits_new_15,payhits_new_16,payhits_new_17,payhits_new_18,payhits_new_19,payhits_new_20,payhits_new_21, \\\n",
    "payhits_new_22,payhits_new_23,payhits_new_24,payhits_new_25,payhits_new_26,payhits_new_27, \\\n",
    "payhits_new_28,payhits_new_29,payhits_new_30,payhits_new_31,payhits_new_32,payhits_new_33, \\\n",
    "payhits_new_34,payhits_new_35,payhits_new_36) as paymenthistory2\"]\n",
    " \n",
    "vs4_tl_expr_payhits_new2 = [\"*\"]\\\n",
    "+[\"case when PAYHITS_\"+str(i)+\" in ('SUB','LSS','DBT') then 91 \\\n",
    "when PAYHITS_\"+str(i)+\" = 'SMA' or (PAYHITS_\"+str(i)+\" = 'STD' and UPPER(PRODUCT_DESC) != 'CC' and PastDueAmount_new>5000) or (PAYHITS_\"+str(i)+\" = 'STD' and UPPER(PRODUCT_DESC) = 'CC' and PastDueAmount_new > 10000) then 89 \\\n",
    "when PAYHITS_\"+str(i)+\" in ('XXX','DDD') then -11  \\\n",
    "when PAYHITS_\"+str(i)+\" = 'STD' then 0 \\\n",
    "when PAYHITS_\"+str(i)+\" = '901' and PastDueAmount_new < 1000 then 0 \\\n",
    "when PAYHITS_\"+str(i)+\" = '901' and PastDueAmount_new >= 1000 and PastDueAmount_new <= 2000 then 29 \\\n",
    "when PAYHITS_\"+str(i)+\" = '901' and PastDueAmount_new > 2000 and PastDueAmount_new <= 5000 then 30 \\\n",
    "when PAYHITS_\"+str(i)+\" = '901' and PastDueAmount_new > 5000 then 90 \\\n",
    "when PAYHITS_\"+str(i)+\" in ('902','903','904') then 91 \\\n",
    "when PAYHITS_\"+str(i)+\" = '905' then 61 else cast(PAYHITS_\"+str(i)+\" as int) end as PAYHITS_NEW2_\"+str(i) for i in range(1,37)]\n",
    " \n",
    " "
   ]
  },
  {
   "cell_type": "code",
   "execution_count": 54,
   "id": "85a89843-ebbd-4949-a10c-e897b5f1d243",
   "metadata": {},
   "outputs": [],
   "source": [
    "vs1_pp_tl_expr = [\"*\"]\\\n",
    "+[\"case when month_diff = 0 then date_add(trunc(add_months(run_dt, 1),'month'),-1) \\\n",
    "when month_diff = 1 then date_add(trunc(add_months(run_dt, 0),'month'),-1) \\\n",
    "when month_diff > 1 then date_add(trunc(add_months(run_dt, -1),'month'),-1) end as ref_date\"]\\\n",
    "+[\"case when PaymentHistoryStartDate is not null then PaymentHistoryStartDate \\\n",
    "when PaymentHistoryStartDate is null and dateReported is not null then dateReported \\\n",
    "when PaymentHistoryStartDate is null and dateReported is null then create_date_n end as paymentend_date\"]\\\n",
    "+[\"case when DATECLOSE < PaymentHistoryStartDate and DATECLOSE is not null then PaymentHistoryStartDate else DATECLOSE end as DATECLOSE_new\"]\n",
    " \n",
    "\n",
    "dpd_exp1 = [\"*\"]\\\n",
    "+[\"case when Last_payment_date ='' then DATECLOSE when Last_payment_date ='' and DATECLOSE = '' then dateReported else Last_payment_date end as Last_payment_date_new\"]\\\n",
    "+[\n",
    "    f\"\"\"\n",
    "    case\n",
    "    when (PAYMT_DPD_BKT_{i} >= 360 and PAYMT_DPD_BKT_{i} <= 900) then 7\n",
    "    when (PAYMT_DPD_BKT_{i} >= 180 and PAYMT_DPD_BKT_{i} < 360) or (PAYMT_DPD_BKT_{i} = 904) or (PAYMT_DPD_BKT_{i} = 903) then 6 \n",
    "    when (PAYMT_DPD_BKT_{i} >= 150 and PAYMT_DPD_BKT_{i} < 180) then 5 \n",
    "    when (PAYMT_DPD_BKT_{i} >= 90 and PAYMT_DPD_BKT_{i} < 150) or (PAYMT_DPD_BKT_{i} = 902) then 4 \n",
    "    when (PAYMT_DPD_BKT_{i} >= 60 and PAYMT_DPD_BKT_{i} < 90)  or (PAYMT_DPD_BKT_{i} = 905) then 3 \n",
    "    when (PAYMT_DPD_BKT_{i} >= 30 and PAYMT_DPD_BKT_{i} < 60) then 2 \n",
    "    when (PAYMT_DPD_BKT_{i} >= 1 and PAYMT_DPD_BKT_{i} < 30) then 1 \n",
    "    when (PAYMT_DPD_BKT_{i} = 0) or (PAYMT_DPD_BKT_{i} = 901) then 0 \n",
    "    else 8 end as p_hist_bucket_{i}\n",
    "    \"\"\" \n",
    "    for i in range(1 , 37)\n",
    "]\n",
    "\n",
    "dpd_exp2=[\"*\"]\\\n",
    "+[\"concat_ws('', \" + \", \".join(['p_hist_bucket_'+str(i) for i in range(1,37)]) + \") as phist_buckets\"]"
   ]
  },
  {
   "cell_type": "code",
   "execution_count": 50,
   "id": "6e0dd950-779b-440d-8014-17378c26b72c",
   "metadata": {},
   "outputs": [],
   "source": [
    "tl_dpd_exp1 = [\"*\"]\\\n",
    "+[\"cast(substr(phist_buckets , {} , 1) as int) as dpd_bucket_int_{}\".format(i , i) for i in range(1 , 37)]\n",
    "\n",
    "tl_dpd_exp2 = [\"*\"]\\\n",
    "+[\n",
    "    \"\"\"\n",
    "    case \n",
    "    when (dpd_bucket_int_{i} >= 0) and (dpd_bucket_int_{i} <= 7) then dpd_bucket_int_{i}\n",
    "    when dpd_bucket_int_{i} = 8 and ({i} < mn_diff_retro_start or {i} > mn_diff_retro_end) then -2\n",
    "    else -1 \n",
    "    end as dpd_bucket_{i}\n",
    "    \"\"\".format(i = i)\n",
    "    for i in range(1 , 37)\n",
    "]\\\n",
    "+[\n",
    "    f\"\"\"\n",
    "    case when (p_hist_bucket_{i} = 8 and {i} > mn_diff_start_end + 1) then -2\n",
    "    when p_hist_bucket_{i} = 8 then -1\n",
    "    else p_hist_bucket_{i} \n",
    "    end as phist_bucket_{i}\n",
    "    \"\"\"\n",
    "    for i in range(1 , 7)\n",
    "]"
   ]
  },
  {
   "cell_type": "code",
   "execution_count": 58,
   "id": "5131b82c-1797-4ce1-bb8c-b1a8e363c152",
   "metadata": {},
   "outputs": [],
   "source": [
    "tl_data2=tl_data1\\\n",
    ".withColumn(\"Loan_Type\", F.trim(F.col(\"Loan_Type\")))\\\n",
    ".filter(\"Ownership_type != 'Guarantor'\")\\\n",
    ".filter(\"length(dpd_string) between 0 and 108\")\\\n",
    ".withColumn('run_dt',F.to_date(F.lit(run_date)))\\\n",
    ".withColumn(\"dateReport\",F.to_date(F.lit(run_date)))\\\n",
    ".filter(\"dateReport is not null\")\\\n",
    ".select(*vs_tl_date_ipad)\\\n",
    ".drop('Last_payment_date')\\\n",
    ".select(*vs_tl_cast_expr0)\\\n",
    ".filter(\"openDate is not null\")\\\n",
    ".filter(\"openDate <= run_dt\")\\\n",
    ".filter(\"PaymentHistoryStartDate <= run_dt\")\\\n",
    ".withColumn(\"datereported_trades1\",F.lpad(F.col(\"datereported_trades_c\"),8,'0'))\\\n",
    ".select(*vs_tl_cast_expr1)\\\n",
    ".selectExpr([\"*\"]+[\"case when dateReported is Null then Last_payment_date else dateReported end as dateReported_new\"])\\\n",
    ".drop('dateReported')\\\n",
    ".withColumnRenamed('dateReported_new','dateReported')\\\n",
    ".filter(\"dateReported is not Null\")\\\n",
    ".withColumn('month_diff',F.months_between(F.trunc('run_dt','month'),F.trunc('PaymentHistoryStartDate','month')))\\\n",
    ".withColumn('create_date_n',F.col('run_dt'))\\\n",
    ".selectExpr(vs_tl_expr2)\\\n",
    ".selectExpr(vs1_pp_tl_expr)\\\n",
    ".selectExpr(dpd_exp1)\\\n",
    ".drop('Last_payment_date')\\\n",
    ".withColumnRenamed('Last_payment_date_new','Last_payment_date')\\\n",
    ".selectExpr(dpd_exp2)\\\n",
    ".drop('DATECLOSE')\\\n",
    ".withColumnRenamed('DATECLOSE_new','DATECLOSE')\\\n",
    ".selectExpr([\"*\"]+[\"case when Over_due_amount is null then 0 else Over_due_amount*1 end as PastDueAmount_new\"])\\\n",
    ".withColumnRenamed(\"Sanction_Amount\",\"SANCTIONAMOUNT\")\\\n",
    ".withColumnRenamed(\"High_Credit_Amount\",\"HIGHCREDIT\")\\\n",
    ".withColumnRenamed(\"Over_due_amount\",\"AMOUNT_OVERDUE\")\\\n",
    ".withColumnRenamed(\"Out_standing_Balance\",\"CURRENT_BALANCE\")\\\n",
    ".withColumn(\n",
    "    \"PASTDUEAMOUNT\" , \n",
    "    F.when(F.col(\"AMOUNT_OVERDUE\") <= 0 , F.lit(0))\\\n",
    "    .otherwise(F.col(\"AMOUNT_OVERDUE\"))\n",
    ")\\\n",
    ".withColumn(\"NEGATIVE_BALANCE_FLAG\" , F.when(F.col(\"CURRENT_BALANCE\") < 0 , F.lit(1)).otherwise(F.lit(0)))\\\n",
    ".withColumn(\"CURRENT_BALANCE\" , F.when(F.col(\"CURRENT_BALANCE\") <= 0 , F.lit(0)).otherwise(F.col(\"CURRENT_BALANCE\")))\\\n",
    ".withColumn(\"CREDITLIMIT\" , F.when(F.col(\"CREDITLIMIT\") < 0 , F.lit(None)).otherwise(F.col(\"CREDITLIMIT\")))\\\n",
    ".withColumnRenamed('CURRENT_BALANCE' , 'BALANCE')\\\n",
    ".withColumnRenamed('CASH_LIMIT' , 'CASHLIMIT')\\\n",
    ".withColumnRenamed('openDate' , 'DATEOPENED')\\\n",
    ".withColumnRenamed('Last_payment_date' , 'LASTPAYMENTDATE')\\\n",
    ".withColumnRenamed('DATECLOSE'  , 'DATECLOSED')\\\n",
    ".withColumnRenamed('dateReported' , 'DATEREPORTED')\\\n",
    ".withColumnRenamed('actual_paymt_amt' , 'lastpayment')\\\n",
    ".withColumnRenamed('tenor' , 'repaymenttenure')\\\n",
    ".withColumnRenamed('EMI' , 'actual_emi')\\\n",
    ".withColumnRenamed(\"Sector\",\"account_holder_type\")\\\n",
    ".withColumnRenamed(\"Loan_account_Number\",\"acct_uniq_id\")\\\n",
    ".withColumnRenamed(\"PaymentHistoryStartDate\",\"payment_history_start_date\")\\\n",
    ".withColumnRenamed(\"paymentend_date\",\"payment_history_end_date\")\\\n",
    ".withColumnRenamed(\"writeoff_amt_prin\",\"written_off_amount_principal\")\\\n",
    ".withColumnRenamed(\"writeoff_amt_tot\",\"written_off_amount\")\\\n",
    ".withColumnRenamed(\"COLLATERALType\",\"collateral_type\")\\\n",
    ".withColumnRenamed(\"COLLATERALVALUE\",\"collateral_value\")\\\n",
    ".withColumnRenamed(\"suit_filed_status\",\"is_suit_filed_or_wilful_default\")\\\n",
    ".withColumnRenamed(\"Credit_Facility_Status\",\"is_written_off_or_settled\")\\\n",
    ".withColumn(\"ACCOUNT_TYPE\",F.col('Loan_Type'))\\\n",
    ".withColumn(\n",
    "    \"mn_diff_retro_start\" ,\n",
    "    F.months_between(F.date_trunc('month' , F.col(\"run_dt\")) , F.trunc(F.col('PAYMENT_HISTORY_START_DATE') , \"month\")).cast(T.IntegerType())\n",
    ")\\\n",
    ".withColumn(\n",
    "    \"mn_diff_retro_end\" ,\n",
    "    F.months_between(F.date_trunc('month' , F.col(\"run_dt\")) , F.trunc(F.col('PAYMENT_HISTORY_END_DATE') , \"month\")).cast(T.IntegerType())\n",
    ")\\\n",
    ".withColumn(\n",
    "    \"mn_diff_retro_report\" , \n",
    "    F.months_between(F.date_trunc('month' , F.col(\"run_dt\")) , F.trunc(F.col(\"DATEREPORTED\") , \"month\")).cast(T.IntegerType())\n",
    ")\\\n",
    ".withColumn(\n",
    "    \"mn_diff_retro_open\" , \n",
    "    F.months_between(F.date_trunc('month' , F.col(\"run_dt\")) , F.trunc(F.col(\"DATEOPENED\") , \"month\")).cast(T.IntegerType())\n",
    ")\\\n",
    ".withColumn(\n",
    "    \"mn_diff_retro_close\" , \n",
    "    F.months_between(F.date_trunc('month' , F.col(\"run_dt\")) , F.trunc(F.col(\"DATECLOSED\") , \"month\")).cast(T.IntegerType())\n",
    ")\\\n",
    ".withColumn(\n",
    "    \"mn_diff_retro_payment\" , \n",
    "    F.months_between(F.date_trunc('month' , F.col(\"run_dt\")) , F.trunc(F.col(\"LASTPAYMENTDATE\") , \"month\")).cast(T.IntegerType())\n",
    ")\\\n",
    ".withColumn(\"pre_fill\" , F.concat_ws('' , F.array_repeat(F.lit(\"8\") , F.col(\"mn_diff_retro_start\") - F.lit(1))))\\\n",
    ".withColumn(\"phist_buckets\" , F.concat(F.col(\"pre_fill\") , F.col(\"phist_buckets\")))\\\n",
    ".withColumn(\n",
    "    \"dpd_cut_len\" ,\n",
    "    F.when(F.col(\"mn_diff_retro_start\") <= 0 , (F.abs(F.col('mn_diff_retro_start'))) + F.lit(1)).otherwise(F.lit(0))\n",
    ")\\\n",
    ".withColumn('phist_buckets' , F.expr(\"substring(phist_buckets , dpd_cut_len + 1 , length(phist_buckets) - dpd_cut_len)\"))\\\n",
    ".withColumn(\n",
    "    \"PAYMENT_HISTORY_START_DATE\" , \n",
    "    F.when(\n",
    "        F.col(\"mn_diff_retro_start\") <= 0 , \n",
    "        F.add_months(F.col('run_dt') , months = -1)\n",
    "    ).otherwise(F.col('PAYMENT_HISTORY_START_DATE'))\n",
    ")\\\n",
    ".withColumn(\n",
    "    \"mn_diff_start_end\" , \n",
    "    F.months_between(F.date_trunc('month' , F.col(\"PAYMENT_HISTORY_START_DATE\")) , F.trunc(\"PAYMENT_HISTORY_END_DATE\" , \"month\")).cast(T.IntegerType())\n",
    ")\\\n",
    ".selectExpr(tl_dpd_exp1)\\\n",
    ".selectExpr(tl_dpd_exp2)\n",
    " "
   ]
  },
  {
   "cell_type": "code",
   "execution_count": null,
   "id": "8fb00491-1403-4037-869b-6d68d291f66e",
   "metadata": {},
   "outputs": [],
   "source": []
  },
  {
   "cell_type": "code",
   "execution_count": null,
   "id": "39abaa4a-f655-4f51-8cc0-4cd4ddfd4a6e",
   "metadata": {},
   "outputs": [],
   "source": [
    "tl_data1.count()"
   ]
  },
  {
   "cell_type": "code",
   "execution_count": null,
   "id": "4c99d1b3-14a3-4e88-969e-774f0299c5a0",
   "metadata": {},
   "outputs": [],
   "source": []
  },
  {
   "cell_type": "code",
   "execution_count": 39,
   "id": "eea3d2bf-51f8-4b70-a875-415c25f2128f",
   "metadata": {},
   "outputs": [
    {
     "name": "stdout",
     "output_type": "stream",
     "text": [
      "+------------+-----+\n",
      "|PRODUCT_DESC|count|\n",
      "+------------+-----+\n",
      "|      OTHERS|   40|\n",
      "|          PL|   49|\n",
      "|          GL|   61|\n",
      "|          HL|   18|\n",
      "|          AL|   12|\n",
      "|          CC|   28|\n",
      "|         BIL|   20|\n",
      "+------------+-----+\n",
      "\n"
     ]
    },
    {
     "name": "stderr",
     "output_type": "stream",
     "text": [
      "25/05/08 07:43:50 WARN CSVHeaderChecker: CSV header does not conform to the schema.\n",
      " Header: Loan_Type                                    , DATE_OPENED, DateReported_trades, Last_payment_date, Pay_Hist_Start_Date, Ownership_type, Dpd_string                                                                                                  \n",
      " Schema: Loan_Type, DATE_OPENED, DateReported_trades, Last_payment_date, Pay_Hist_Start_Date, Ownership_Type, Dpd_string\n",
      "Expected: Loan_Type but found: Loan_Type                                    \n",
      "CSV file: file:///home/data/manu/sample/cibil/tl.csv\n"
     ]
    }
   ],
   "source": [
    "tl_data2.groupBy(\"PRODUCT_DESC\").count().show()"
   ]
  },
  {
   "cell_type": "code",
   "execution_count": 15,
   "id": "c6194cd0-c6f3-43f7-a9d8-80322628a649",
   "metadata": {},
   "outputs": [
    {
     "name": "stderr",
     "output_type": "stream",
     "text": [
      "25/05/08 07:35:13 WARN CSVHeaderChecker: CSV header does not conform to the schema.\n",
      " Header: Loan_Type                                    , DATE_OPENED, DateReported_trades, Last_payment_date, Pay_Hist_Start_Date, Ownership_type, Dpd_string                                                                                                  \n",
      " Schema: Loan_Type, DATE_OPENED, DateReported_trades, Last_payment_date, Pay_Hist_Start_Date, Ownership_Type, Dpd_string\n",
      "Expected: Loan_Type but found: Loan_Type                                    \n",
      "CSV file: file:///home/data/manu/sample/cibil/tl.csv\n"
     ]
    },
    {
     "name": "stdout",
     "output_type": "stream",
     "text": [
      "+------------------+-----+\n",
      "|      PRODUCT_TYPE|count|\n",
      "+------------------+-----+\n",
      "|            OTHERS|   15|\n",
      "|         Gold_Loan|   61|\n",
      "|         Auto_Loan|   11|\n",
      "|  Two-wheeler_Loan|   13|\n",
      "|     Used_Car_Loan|    1|\n",
      "|     Business_Loan|   20|\n",
      "|               LAP|    5|\n",
      "|     Consumer_Loan|   12|\n",
      "|Commercial_Vehicle|    3|\n",
      "|       Credit_Card|   28|\n",
      "|      Housing_Loan|   18|\n",
      "|     Personal_Loan|   41|\n",
      "+------------------+-----+\n",
      "\n"
     ]
    }
   ],
   "source": [
    "tl_data2.groupBy(\"PRODUCT_TYPE\").count().show()"
   ]
  },
  {
   "cell_type": "code",
   "execution_count": 22,
   "id": "70f0b08f-c232-4497-b0c5-2ace035c05f9",
   "metadata": {
    "scrolled": true
   },
   "outputs": [
    {
     "name": "stdout",
     "output_type": "stream",
     "text": [
      "+---------------------------------------------+-----+\n",
      "|Loan_Type                                    |count|\n",
      "+---------------------------------------------+-----+\n",
      "|Used Car Loan                                |1    |\n",
      "|Auto Loan (Personal)                         |11   |\n",
      "|Consumer Loan                                |12   |\n",
      "|Other                                        |6    |\n",
      "|Commercial Vehicle Loan                      |3    |\n",
      "|Loan Against Bank Deposits                   |7    |\n",
      "|Construction Equipment Loan                  |1    |\n",
      "|Housing Loan                                 |18   |\n",
      "|Gold Loan                                    |61   |\n",
      "|Loan to Professional                         |1    |\n",
      "|Credit Card                                  |28   |\n",
      "|Property Loan                                |5    |\n",
      "|Personal Loan                                |41   |\n",
      "|Business Loan - Priority Sector - Agriculture|20   |\n",
      "|Two-wheeler Loan                             |13   |\n",
      "+---------------------------------------------+-----+\n",
      "\n"
     ]
    },
    {
     "name": "stderr",
     "output_type": "stream",
     "text": [
      "25/05/07 17:25:22 WARN CSVHeaderChecker: CSV header does not conform to the schema.\n",
      " Header: Loan_Type                                    \n",
      " Schema: Loan_Type\n",
      "Expected: Loan_Type but found: Loan_Type                                    \n",
      "CSV file: file:///home/data/manu/sample/cibil/tl.csv\n"
     ]
    }
   ],
   "source": [
    "tl_data1.groupBy(\"Loan_Type\").count().show(truncate =False)"
   ]
  },
  {
   "cell_type": "code",
   "execution_count": null,
   "id": "f2afef62-dad0-4e4f-b662-90ecb8b741d9",
   "metadata": {},
   "outputs": [],
   "source": []
  },
  {
   "cell_type": "code",
   "execution_count": null,
   "id": "6739eed0-7898-4742-b66c-e165b69e21a9",
   "metadata": {},
   "outputs": [],
   "source": []
  },
  {
   "cell_type": "code",
   "execution_count": 16,
   "id": "9d9950ee-2972-49c5-81d8-a1b000a50ed3",
   "metadata": {},
   "outputs": [
    {
     "name": "stderr",
     "output_type": "stream",
     "text": [
      "25/05/08 07:39:57 WARN CSVHeaderChecker: CSV header does not conform to the schema.\n",
      " Header: DATE_OPENED, DateReported_trades, Last_payment_date, Pay_Hist_Start_Date, Ownership_type, Dpd_string                                                                                                  \n",
      " Schema: DATE_OPENED, DateReported_trades, Last_payment_date, Pay_Hist_Start_Date, Ownership_Type, Dpd_string\n",
      "Expected: Dpd_string but found: Dpd_string                                                                                                  \n",
      "CSV file: file:///home/data/manu/sample/cibil/tl.csv\n"
     ]
    },
    {
     "data": {
      "text/plain": [
       "228"
      ]
     },
     "execution_count": 16,
     "metadata": {},
     "output_type": "execute_result"
    }
   ],
   "source": [
    "tl_data2.count()"
   ]
  },
  {
   "cell_type": "code",
   "execution_count": 123,
   "id": "721dbca0-c356-427e-87f0-58212175d421",
   "metadata": {
    "scrolled": true
   },
   "outputs": [
    {
     "name": "stderr",
     "output_type": "stream",
     "text": [
      "25/05/05 17:10:43 WARN CSVHeaderChecker: CSV header does not conform to the schema.\n",
      " Header: EnquiryControlNumber, MemberReference, Loan_account_Number, Loan_Status, Loan_Type                                    , Loan_Classification, Sanction_Amount, High_Credit_Amount, Out_standing_Balance, EMI   , CREDITLIMIT, CASH_LIMIT, actual_paymt_amt, Interest_Rates, tenor, Income, monthly_annual_indicator, net_gross_indicator, occupation_code, COLLATERALTYPE, COLLATERALVALUE, DATE_OPENED, DATE_CLOSED, DateReported_trades, Last_payment_date, Pay_Hist_Start_Date, Pay_Hist_END_Date, Ownership_type, Over_due_amount, Tenor_Frequency, suit_filed_status, Credit_Facility_Status, writeoff_amt_tot, writeoff_amt_prin, settlement_amt, Dpd_string                                                                                                  , PL_Propensity_Score, NTC_Score, TU_Score, ExclusionCode1, ExclusionCode2, ExclusionCode3, ExclusionCode4, ExclusionCode5, ExclusionCode6, ExclusionCode7, ReasonCode1, ReasonCode2, ReasonCode3, ReasonCode4, ReasonCode5, ErrorCode, Sector       \n",
      " Schema: EnquiryControlNumber, MemberReference, Loan_account_Number, Loan_Status, Loan_Type, Loan_Classification, Sanction_Amount, High_Credit_Amount, Out_standing_Balance, EMI, CREDITLIMIT, CASH_LIMIT, actual_paymt_amt, Interest_Rates, tenor, Income, monthly_annual_indicator, net_gross_indicator, occupation_code, COLLATERALType, COLLATERALVALUE, DATE_OPENED, DATE_CLOSED, DateReported_trades, Last_payment_date, Pay_Hist_Start_Date, Pay_Hist_END_Date, Ownership_Type, Over_due_amount, Tenor_Frequency, suit_filed_status, Credit_Facility_Status, writeoff_amt_tot, writeoff_amt_prin, settlement_amt, Dpd_string, PL_Propensity_Score, NTC_Score, TU_Score, ExclusionCode1, ExclusionCode2, ExclusionCode3, ExclusionCode4, ExclusionCode5, ExclusionCode6, ExclusionCode7, ReasonCode1, ReasonCode2, ReasonCode3, ReasonCode4, ReasonCode5, ErrorCode, Sector\n",
      "Expected: Loan_Type but found: Loan_Type                                    \n",
      "CSV file: file:///home/data/manu/sample/cibil/tl.csv\n",
      "                                                                                \r"
     ]
    },
    {
     "name": "stdout",
     "output_type": "stream",
     "text": [
      "-RECORD 0--------------------------------------------------------------------------------------------------------------------------------\n",
      " EnquiryControlNumber     | 99401699                                                                                                     \n",
      " MemberReference          | 79238541                                                                                                     \n",
      " Loan_account_Number      | NOT DISCLOSED                                                                                                \n",
      " Loan_Status              | Closed                                                                                                       \n",
      " Loan_Type                | Gold Loan                                                                                                    \n",
      " Loan_Classification      | STD                                                                                                          \n",
      " Sanction_Amount          | 38500                                                                                                        \n",
      " High_Credit_Amount       | 38500                                                                                                        \n",
      " Out_standing_Balance     | 0                                                                                                            \n",
      " EMI                      | NULL                                                                                                         \n",
      " CREDITLIMIT              | NULL                                                                                                         \n",
      " CASH_LIMIT               | NULL                                                                                                         \n",
      " actual_paymt_amt         | NULL                                                                                                         \n",
      " Interest_Rates           | NULL                                                                                                         \n",
      " tenor                    | NULL                                                                                                         \n",
      " Income                   | NULL                                                                                                         \n",
      " monthly_annual_indicator | null                                                                                                         \n",
      " net_gross_indicator      | null                                                                                                         \n",
      " occupation_code          | 4                                                                                                            \n",
      " COLLATERALType           | NULL                                                                                                         \n",
      " COLLATERALVALUE          | NULL                                                                                                         \n",
      " DATE_OPENED              | 14-Nov-11                                                                                                    \n",
      " DATE_CLOSED              | 26-Nov-11                                                                                                    \n",
      " DateReported_trades      | 30112011                                                                                                     \n",
      " Pay_Hist_Start_Date      | 1-Nov-11                                                                                                     \n",
      " Pay_Hist_END_Date        | 1-Nov-11                                                                                                     \n",
      " Ownership_Type           | Individual                                                                                                   \n",
      " Over_due_amount          | NULL                                                                                                         \n",
      " Tenor_Frequency          | NULL                                                                                                         \n",
      " suit_filed_status        | NULL                                                                                                         \n",
      " Credit_Facility_Status   | NULL                                                                                                         \n",
      " writeoff_amt_tot         | NULL                                                                                                         \n",
      " writeoff_amt_prin        | NULL                                                                                                         \n",
      " settlement_amt           | NULL                                                                                                         \n",
      " Dpd_string               | STD                                                                                                          \n",
      " PL_Propensity_Score      | null                                                                                                         \n",
      " NTC_Score                | null                                                                                                         \n",
      " TU_Score                 | 000-1                                                                                                        \n",
      " ExclusionCode1           | null                                                                                                         \n",
      " ExclusionCode2           | null                                                                                                         \n",
      " ExclusionCode3           | null                                                                                                         \n",
      " ExclusionCode4           | null                                                                                                         \n",
      " ExclusionCode5           | null                                                                                                         \n",
      " ExclusionCode6           | null                                                                                                         \n",
      " ExclusionCode7           | null                                                                                                         \n",
      " ReasonCode1              | NULL                                                                                                         \n",
      " ReasonCode2              | NULL                                                                                                         \n",
      " ReasonCode3              | NULL                                                                                                         \n",
      " ReasonCode4              | NULL                                                                                                         \n",
      " ReasonCode5              | NULL                                                                                                         \n",
      " ErrorCode                | null                                                                                                         \n",
      " Sector                   | NOT DISCLOSED                                                                                                \n",
      " run_dt                   | 2024-05-01                                                                                                   \n",
      " dateReport               | 2024-05-01                                                                                                   \n",
      " DATE_OPENED_pad          | 14-Nov-11                                                                                                    \n",
      " DATE_CLOSED_pad          | 26-Nov-11                                                                                                    \n",
      " Pay_Hist_Start_Date_pad  | 01-Nov-11                                                                                                    \n",
      " Last_payment_date_pad    | NULL                                                                                                         \n",
      " datereported_trades_c    | 30112011                                                                                                     \n",
      " openDate                 | 2011-11-14                                                                                                   \n",
      " PaymentHistoryStartDate  | 2011-11-01                                                                                                   \n",
      " datereported_trades1     | 30112011                                                                                                     \n",
      " dateReported             | 2011-11-30                                                                                                   \n",
      " month_diff               | 150.0                                                                                                        \n",
      " create_date_n            | 2024-05-01                                                                                                   \n",
      " PAYMT_DPD_BKT_1          | STD                                                                                                          \n",
      " PAYMT_DPD_BKT_2          |                                                                                                              \n",
      " PAYMT_DPD_BKT_3          |                                                                                                              \n",
      " PAYMT_DPD_BKT_4          |                                                                                                              \n",
      " PAYMT_DPD_BKT_5          |                                                                                                              \n",
      " PAYMT_DPD_BKT_6          |                                                                                                              \n",
      " PAYMT_DPD_BKT_7          |                                                                                                              \n",
      " PAYMT_DPD_BKT_8          |                                                                                                              \n",
      " PAYMT_DPD_BKT_9          |                                                                                                              \n",
      " PAYMT_DPD_BKT_10         |                                                                                                              \n",
      " PAYMT_DPD_BKT_11         |                                                                                                              \n",
      " PAYMT_DPD_BKT_12         |                                                                                                              \n",
      " PAYMT_DPD_BKT_13         |                                                                                                              \n",
      " PAYMT_DPD_BKT_14         |                                                                                                              \n",
      " PAYMT_DPD_BKT_15         |                                                                                                              \n",
      " PAYMT_DPD_BKT_16         |                                                                                                              \n",
      " PAYMT_DPD_BKT_17         |                                                                                                              \n",
      " PAYMT_DPD_BKT_18         |                                                                                                              \n",
      " PAYMT_DPD_BKT_19         |                                                                                                              \n",
      " PAYMT_DPD_BKT_20         |                                                                                                              \n",
      " PAYMT_DPD_BKT_21         |                                                                                                              \n",
      " PAYMT_DPD_BKT_22         |                                                                                                              \n",
      " PAYMT_DPD_BKT_23         |                                                                                                              \n",
      " PAYMT_DPD_BKT_24         |                                                                                                              \n",
      " PAYMT_DPD_BKT_25         |                                                                                                              \n",
      " PAYMT_DPD_BKT_26         |                                                                                                              \n",
      " PAYMT_DPD_BKT_27         |                                                                                                              \n",
      " PAYMT_DPD_BKT_28         |                                                                                                              \n",
      " PAYMT_DPD_BKT_29         |                                                                                                              \n",
      " PAYMT_DPD_BKT_30         |                                                                                                              \n",
      " PAYMT_DPD_BKT_31         |                                                                                                              \n",
      " PAYMT_DPD_BKT_32         |                                                                                                              \n",
      " PAYMT_DPD_BKT_33         |                                                                                                              \n",
      " PAYMT_DPD_BKT_34         |                                                                                                              \n",
      " PAYMT_DPD_BKT_35         |                                                                                                              \n",
      " PAYMT_DPD_BKT_36         |                                                                                                              \n",
      " PRODUCT_DESC             | OTHERS                                                                                                       \n",
      " PRODUCT_TYPE             | OTHERS                                                                                                       \n",
      " FLAG_SECURED_UNSEC       | Unsecured                                                                                                    \n",
      " HIGHCREDIT               | 38500                                                                                                        \n",
      " WRITTEN_OFF_STATUS       | 0                                                                                                            \n",
      " PAYMT_DPD_1              | 0                                                                                                            \n",
      " PAYMT_DPD_2              | NULL                                                                                                         \n",
      " PAYMT_DPD_3              | NULL                                                                                                         \n",
      " PAYMT_DPD_4              | NULL                                                                                                         \n",
      " PAYMT_DPD_5              | NULL                                                                                                         \n",
      " PAYMT_DPD_6              | NULL                                                                                                         \n",
      " PAYMT_DPD_7              | NULL                                                                                                         \n",
      " PAYMT_DPD_8              | NULL                                                                                                         \n",
      " PAYMT_DPD_9              | NULL                                                                                                         \n",
      " PAYMT_DPD_10             | NULL                                                                                                         \n",
      " PAYMT_DPD_11             | NULL                                                                                                         \n",
      " PAYMT_DPD_12             | NULL                                                                                                         \n",
      " PAYMT_DPD_13             | NULL                                                                                                         \n",
      " PAYMT_DPD_14             | NULL                                                                                                         \n",
      " PAYMT_DPD_15             | NULL                                                                                                         \n",
      " PAYMT_DPD_16             | NULL                                                                                                         \n",
      " PAYMT_DPD_17             | NULL                                                                                                         \n",
      " PAYMT_DPD_18             | NULL                                                                                                         \n",
      " PAYMT_DPD_19             | NULL                                                                                                         \n",
      " PAYMT_DPD_20             | NULL                                                                                                         \n",
      " PAYMT_DPD_21             | NULL                                                                                                         \n",
      " PAYMT_DPD_22             | NULL                                                                                                         \n",
      " PAYMT_DPD_23             | NULL                                                                                                         \n",
      " PAYMT_DPD_24             | NULL                                                                                                         \n",
      " PAYMT_DPD_25             | NULL                                                                                                         \n",
      " PAYMT_DPD_26             | NULL                                                                                                         \n",
      " PAYMT_DPD_27             | NULL                                                                                                         \n",
      " PAYMT_DPD_28             | NULL                                                                                                         \n",
      " PAYMT_DPD_29             | NULL                                                                                                         \n",
      " PAYMT_DPD_30             | NULL                                                                                                         \n",
      " PAYMT_DPD_31             | NULL                                                                                                         \n",
      " PAYMT_DPD_32             | NULL                                                                                                         \n",
      " PAYMT_DPD_33             | NULL                                                                                                         \n",
      " PAYMT_DPD_34             | NULL                                                                                                         \n",
      " PAYMT_DPD_35             | NULL                                                                                                         \n",
      " PAYMT_DPD_36             | NULL                                                                                                         \n",
      " ref_date                 | 2024-03-31                                                                                                   \n",
      " paymentend_date          | 2011-11-01                                                                                                   \n",
      " DATECLOSE                | 2011-11-26                                                                                                   \n",
      " ReportedtoLogin          | 148.0                                                                                                        \n",
      " OpentoLogin              | 150.0                                                                                                        \n",
      " ClosedtoLogin            | 150.0                                                                                                        \n",
      " PaymenttoLogin           | 148.0                                                                                                        \n",
      " ClosedtoRef              | 148.0                                                                                                        \n",
      " PastDueAmount_new        | 0                                                                                                            \n",
      " PAYHITS_1                | STD                                                                                                          \n",
      " PAYHITS_2                |                                                                                                              \n",
      " PAYHITS_3                |                                                                                                              \n",
      " PAYHITS_4                |                                                                                                              \n",
      " PAYHITS_5                |                                                                                                              \n",
      " PAYHITS_6                |                                                                                                              \n",
      " PAYHITS_7                |                                                                                                              \n",
      " PAYHITS_8                |                                                                                                              \n",
      " PAYHITS_9                |                                                                                                              \n",
      " PAYHITS_10               |                                                                                                              \n",
      " PAYHITS_11               |                                                                                                              \n",
      " PAYHITS_12               |                                                                                                              \n",
      " PAYHITS_13               |                                                                                                              \n",
      " PAYHITS_14               |                                                                                                              \n",
      " PAYHITS_15               |                                                                                                              \n",
      " PAYHITS_16               |                                                                                                              \n",
      " PAYHITS_17               |                                                                                                              \n",
      " PAYHITS_18               |                                                                                                              \n",
      " PAYHITS_19               |                                                                                                              \n",
      " PAYHITS_20               |                                                                                                              \n",
      " PAYHITS_21               |                                                                                                              \n",
      " PAYHITS_22               |                                                                                                              \n",
      " PAYHITS_23               |                                                                                                              \n",
      " PAYHITS_24               |                                                                                                              \n",
      " PAYHITS_25               |                                                                                                              \n",
      " PAYHITS_26               |                                                                                                              \n",
      " PAYHITS_27               |                                                                                                              \n",
      " PAYHITS_28               |                                                                                                              \n",
      " PAYHITS_29               |                                                                                                              \n",
      " PAYHITS_30               |                                                                                                              \n",
      " PAYHITS_31               |                                                                                                              \n",
      " PAYHITS_32               |                                                                                                              \n",
      " PAYHITS_33               |                                                                                                              \n",
      " PAYHITS_34               |                                                                                                              \n",
      " PAYHITS_35               |                                                                                                              \n",
      " PAYHITS_36               |                                                                                                              \n",
      " Last_payment_date        | NULL                                                                                                         \n",
      " PAYHITS_NEW_1            | 000                                                                                                          \n",
      " PAYHITS_NEW_2            |                                                                                                              \n",
      " PAYHITS_NEW_3            |                                                                                                              \n",
      " PAYHITS_NEW_4            |                                                                                                              \n",
      " PAYHITS_NEW_5            |                                                                                                              \n",
      " PAYHITS_NEW_6            |                                                                                                              \n",
      " PAYHITS_NEW_7            |                                                                                                              \n",
      " PAYHITS_NEW_8            |                                                                                                              \n",
      " PAYHITS_NEW_9            |                                                                                                              \n",
      " PAYHITS_NEW_10           |                                                                                                              \n",
      " PAYHITS_NEW_11           |                                                                                                              \n",
      " PAYHITS_NEW_12           |                                                                                                              \n",
      " PAYHITS_NEW_13           |                                                                                                              \n",
      " PAYHITS_NEW_14           |                                                                                                              \n",
      " PAYHITS_NEW_15           |                                                                                                              \n",
      " PAYHITS_NEW_16           |                                                                                                              \n",
      " PAYHITS_NEW_17           |                                                                                                              \n",
      " PAYHITS_NEW_18           |                                                                                                              \n",
      " PAYHITS_NEW_19           |                                                                                                              \n",
      " PAYHITS_NEW_20           |                                                                                                              \n",
      " PAYHITS_NEW_21           |                                                                                                              \n",
      " PAYHITS_NEW_22           |                                                                                                              \n",
      " PAYHITS_NEW_23           |                                                                                                              \n",
      " PAYHITS_NEW_24           |                                                                                                              \n",
      " PAYHITS_NEW_25           |                                                                                                              \n",
      " PAYHITS_NEW_26           |                                                                                                              \n",
      " PAYHITS_NEW_27           |                                                                                                              \n",
      " PAYHITS_NEW_28           |                                                                                                              \n",
      " PAYHITS_NEW_29           |                                                                                                              \n",
      " PAYHITS_NEW_30           |                                                                                                              \n",
      " PAYHITS_NEW_31           |                                                                                                              \n",
      " PAYHITS_NEW_32           |                                                                                                              \n",
      " PAYHITS_NEW_33           |                                                                                                              \n",
      " PAYHITS_NEW_34           |                                                                                                              \n",
      " PAYHITS_NEW_35           |                                                                                                              \n",
      " PAYHITS_NEW_36           |                                                                                                              \n",
      " MOB                      | 0.0                                                                                                          \n",
      " paymenthistory2          | 000                                                                                                          \n",
      " PAYHITS_NEW2_1           | 0                                                                                                            \n",
      " PAYHITS_NEW2_2           | NULL                                                                                                         \n",
      " PAYHITS_NEW2_3           | NULL                                                                                                         \n",
      " PAYHITS_NEW2_4           | NULL                                                                                                         \n",
      " PAYHITS_NEW2_5           | NULL                                                                                                         \n",
      " PAYHITS_NEW2_6           | NULL                                                                                                         \n",
      " PAYHITS_NEW2_7           | NULL                                                                                                         \n",
      " PAYHITS_NEW2_8           | NULL                                                                                                         \n",
      " PAYHITS_NEW2_9           | NULL                                                                                                         \n",
      " PAYHITS_NEW2_10          | NULL                                                                                                         \n",
      " PAYHITS_NEW2_11          | NULL                                                                                                         \n",
      " PAYHITS_NEW2_12          | NULL                                                                                                         \n",
      " PAYHITS_NEW2_13          | NULL                                                                                                         \n",
      " PAYHITS_NEW2_14          | NULL                                                                                                         \n",
      " PAYHITS_NEW2_15          | NULL                                                                                                         \n",
      " PAYHITS_NEW2_16          | NULL                                                                                                         \n",
      " PAYHITS_NEW2_17          | NULL                                                                                                         \n",
      " PAYHITS_NEW2_18          | NULL                                                                                                         \n",
      " PAYHITS_NEW2_19          | NULL                                                                                                         \n",
      " PAYHITS_NEW2_20          | NULL                                                                                                         \n",
      " PAYHITS_NEW2_21          | NULL                                                                                                         \n",
      " PAYHITS_NEW2_22          | NULL                                                                                                         \n",
      " PAYHITS_NEW2_23          | NULL                                                                                                         \n",
      " PAYHITS_NEW2_24          | NULL                                                                                                         \n",
      " PAYHITS_NEW2_25          | NULL                                                                                                         \n",
      " PAYHITS_NEW2_26          | NULL                                                                                                         \n",
      " PAYHITS_NEW2_27          | NULL                                                                                                         \n",
      " PAYHITS_NEW2_28          | NULL                                                                                                         \n",
      " PAYHITS_NEW2_29          | NULL                                                                                                         \n",
      " PAYHITS_NEW2_30          | NULL                                                                                                         \n",
      " PAYHITS_NEW2_31          | NULL                                                                                                         \n",
      " PAYHITS_NEW2_32          | NULL                                                                                                         \n",
      " PAYHITS_NEW2_33          | NULL                                                                                                         \n",
      " PAYHITS_NEW2_34          | NULL                                                                                                         \n",
      " PAYHITS_NEW2_35          | NULL                                                                                                         \n",
      " PAYHITS_NEW2_36          | NULL                                                                                                         \n",
      "only showing top 1 row\n",
      "\n"
     ]
    }
   ],
   "source": [
    "tl_data1.show(1,False,True)"
   ]
  },
  {
   "cell_type": "code",
   "execution_count": 59,
   "id": "77767eed-eebe-4f1e-91a0-462c9007ac83",
   "metadata": {},
   "outputs": [
    {
     "name": "stderr",
     "output_type": "stream",
     "text": [
      "25/05/08 09:36:49 WARN CSVHeaderChecker: CSV header does not conform to the schema.\n",
      " Header: EnquiryControlNumber, MemberReference, Loan_account_Number, Loan_Status, Loan_Type                                    , Loan_Classification, Sanction_Amount, High_Credit_Amount, Out_standing_Balance, EMI   , CREDITLIMIT, CASH_LIMIT, actual_paymt_amt, Interest_Rates, tenor, Income, monthly_annual_indicator, net_gross_indicator, occupation_code, COLLATERALTYPE, COLLATERALVALUE, DATE_OPENED, DATE_CLOSED, DateReported_trades, Last_payment_date, Pay_Hist_Start_Date, Pay_Hist_END_Date, Ownership_type, Over_due_amount, Tenor_Frequency, suit_filed_status, Credit_Facility_Status, writeoff_amt_tot, writeoff_amt_prin, settlement_amt, Dpd_string                                                                                                  , PL_Propensity_Score, NTC_Score, TU_Score, ExclusionCode1, ExclusionCode2, ExclusionCode3, ExclusionCode4, ExclusionCode5, ExclusionCode6, ExclusionCode7, ReasonCode1, ReasonCode2, ReasonCode3, ReasonCode4, ReasonCode5, ErrorCode, Sector       \n",
      " Schema: EnquiryControlNumber, MemberReference, Loan_account_Number, Loan_Status, Loan_Type, Loan_Classification, Sanction_Amount, High_Credit_Amount, Out_standing_Balance, EMI, CREDITLIMIT, CASH_LIMIT, actual_paymt_amt, Interest_Rates, tenor, Income, monthly_annual_indicator, net_gross_indicator, occupation_code, COLLATERALType, COLLATERALVALUE, DATE_OPENED, DATE_CLOSED, DateReported_trades, Last_payment_date, Pay_Hist_Start_Date, Pay_Hist_END_Date, Ownership_Type, Over_due_amount, Tenor_Frequency, suit_filed_status, Credit_Facility_Status, writeoff_amt_tot, writeoff_amt_prin, settlement_amt, Dpd_string, PL_Propensity_Score, NTC_Score, TU_Score, ExclusionCode1, ExclusionCode2, ExclusionCode3, ExclusionCode4, ExclusionCode5, ExclusionCode6, ExclusionCode7, ReasonCode1, ReasonCode2, ReasonCode3, ReasonCode4, ReasonCode5, ErrorCode, Sector\n",
      "Expected: Loan_Type but found: Loan_Type                                    \n",
      "CSV file: file:///home/data/manu/sample/cibil/tl.csv\n",
      "                                                                                \r"
     ]
    }
   ],
   "source": [
    "\n",
    "tl_data2.write.mode('overwrite').parquet(prep_data_path + 'prep_tl_data.parquet')"
   ]
  },
  {
   "cell_type": "code",
   "execution_count": null,
   "id": "ec932410-e739-46da-aa9e-9afea7fa4ccf",
   "metadata": {
    "tags": []
   },
   "outputs": [],
   "source": [
    "quit()"
   ]
  }
 ],
 "metadata": {
  "kernelspec": {
   "display_name": "Python 3 (ipykernel)",
   "language": "python",
   "name": "python3"
  },
  "language_info": {
   "codemirror_mode": {
    "name": "ipython",
    "version": 3
   },
   "file_extension": ".py",
   "mimetype": "text/x-python",
   "name": "python",
   "nbconvert_exporter": "python",
   "pygments_lexer": "ipython3",
   "version": "3.9.7"
  }
 },
 "nbformat": 4,
 "nbformat_minor": 5
}
